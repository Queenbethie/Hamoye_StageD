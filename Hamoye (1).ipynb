{
 "cells": [
  {
   "cell_type": "markdown",
   "id": "09b39bb0",
   "metadata": {},
   "source": [
    "\n",
    "\n",
    "# Project: Food Production & Supply in Africa\n",
    "\n",
    "## Table of Contents\n",
    "<ul>\n",
    "<li><a href=\"#intro\">Introduction</a></li>\n",
    "<li><a href=\"#conclusions\">Conclusions</a></li>\n",
    "</ul>"
   ]
  },
  {
   "cell_type": "markdown",
   "id": "2ef24ca9",
   "metadata": {},
   "source": [
    "<a id='intro'></a>\n",
    "## Introduction\n",
    "\n",
    "### Dataset Description \n",
    "\n",
    "This dataset collects information on food production and consumption(supply) in Africa obtained from the Food and Agriculture Organization (FAO).\n",
    "\n",
    "Two datasets were used in this project namely;\n",
    "\n",
    "1.  Africa Food Production\n",
    "This dataset includes the following features \n",
    "\n",
    "- Country - 45 Distinct African Countries\n",
    "\n",
    "- Items - Food items produced\n",
    "\n",
    "- Year - Year ranging from 2004 - 2013\n",
    "\n",
    "- Value - Value of food item produced for each year\n",
    "\n",
    "2. Africa Food Supply\n",
    "\n",
    "The second dataset consists of the following features\n",
    "\n",
    "- Country - 45 Distinct African Countries\n",
    "\n",
    "- Year - Year ranging from 2004 - 2013\n",
    "\n",
    "- Value - Value of food item supplied for each year\n"
   ]
  },
  {
   "cell_type": "markdown",
   "id": "2428e864",
   "metadata": {},
   "source": [
    "*Importing the neccessary libraries to investigate the dataset.*"
   ]
  },
  {
   "cell_type": "code",
   "execution_count": 1,
   "id": "e70ecf00",
   "metadata": {},
   "outputs": [],
   "source": [
    "import pandas as pd\n",
    "import numpy as np\n",
    "import seaborn as sns\n",
    "import matplotlib.pyplot as plt\n",
    "import datetime as dt\n",
    "%matplotlib inline"
   ]
  },
  {
   "cell_type": "markdown",
   "id": "e9885775",
   "metadata": {},
   "source": [
    "Loading the first dataset"
   ]
  },
  {
   "cell_type": "code",
   "execution_count": 2,
   "id": "ffd543ba",
   "metadata": {},
   "outputs": [],
   "source": [
    "df1 = pd.read_csv('Africa Food Production (2004 - 2013).csv')"
   ]
  },
  {
   "cell_type": "code",
   "execution_count": 3,
   "id": "6f08d8ee",
   "metadata": {},
   "outputs": [
    {
     "data": {
      "text/html": [
       "<div>\n",
       "<style scoped>\n",
       "    .dataframe tbody tr th:only-of-type {\n",
       "        vertical-align: middle;\n",
       "    }\n",
       "\n",
       "    .dataframe tbody tr th {\n",
       "        vertical-align: top;\n",
       "    }\n",
       "\n",
       "    .dataframe thead th {\n",
       "        text-align: right;\n",
       "    }\n",
       "</style>\n",
       "<table border=\"1\" class=\"dataframe\">\n",
       "  <thead>\n",
       "    <tr style=\"text-align: right;\">\n",
       "      <th></th>\n",
       "      <th>Country</th>\n",
       "      <th>Item</th>\n",
       "      <th>Year</th>\n",
       "      <th>Value</th>\n",
       "    </tr>\n",
       "  </thead>\n",
       "  <tbody>\n",
       "    <tr>\n",
       "      <th>0</th>\n",
       "      <td>Algeria</td>\n",
       "      <td>Wheat and products</td>\n",
       "      <td>2004</td>\n",
       "      <td>2731</td>\n",
       "    </tr>\n",
       "    <tr>\n",
       "      <th>1</th>\n",
       "      <td>Algeria</td>\n",
       "      <td>Wheat and products</td>\n",
       "      <td>2005</td>\n",
       "      <td>2415</td>\n",
       "    </tr>\n",
       "    <tr>\n",
       "      <th>2</th>\n",
       "      <td>Algeria</td>\n",
       "      <td>Wheat and products</td>\n",
       "      <td>2006</td>\n",
       "      <td>2688</td>\n",
       "    </tr>\n",
       "    <tr>\n",
       "      <th>3</th>\n",
       "      <td>Algeria</td>\n",
       "      <td>Wheat and products</td>\n",
       "      <td>2007</td>\n",
       "      <td>2319</td>\n",
       "    </tr>\n",
       "    <tr>\n",
       "      <th>4</th>\n",
       "      <td>Algeria</td>\n",
       "      <td>Wheat and products</td>\n",
       "      <td>2008</td>\n",
       "      <td>1111</td>\n",
       "    </tr>\n",
       "  </tbody>\n",
       "</table>\n",
       "</div>"
      ],
      "text/plain": [
       "   Country                Item  Year  Value\n",
       "0  Algeria  Wheat and products  2004   2731\n",
       "1  Algeria  Wheat and products  2005   2415\n",
       "2  Algeria  Wheat and products  2006   2688\n",
       "3  Algeria  Wheat and products  2007   2319\n",
       "4  Algeria  Wheat and products  2008   1111"
      ]
     },
     "execution_count": 3,
     "metadata": {},
     "output_type": "execute_result"
    }
   ],
   "source": [
    "df1.head()"
   ]
  },
  {
   "cell_type": "code",
   "execution_count": 4,
   "id": "612364b8",
   "metadata": {},
   "outputs": [
    {
     "data": {
      "text/plain": [
       "(23110, 4)"
      ]
     },
     "execution_count": 4,
     "metadata": {},
     "output_type": "execute_result"
    }
   ],
   "source": [
    "df1.shape"
   ]
  },
  {
   "cell_type": "markdown",
   "id": "90a54415",
   "metadata": {},
   "source": [
    "The first dataset which is the Africa Food Production dataset consists of 23110 rows and 4 columns."
   ]
  },
  {
   "cell_type": "code",
   "execution_count": 5,
   "id": "b12db557",
   "metadata": {},
   "outputs": [
    {
     "data": {
      "text/html": [
       "<div>\n",
       "<style scoped>\n",
       "    .dataframe tbody tr th:only-of-type {\n",
       "        vertical-align: middle;\n",
       "    }\n",
       "\n",
       "    .dataframe tbody tr th {\n",
       "        vertical-align: top;\n",
       "    }\n",
       "\n",
       "    .dataframe thead th {\n",
       "        text-align: right;\n",
       "    }\n",
       "</style>\n",
       "<table border=\"1\" class=\"dataframe\">\n",
       "  <thead>\n",
       "    <tr style=\"text-align: right;\">\n",
       "      <th></th>\n",
       "      <th>Country</th>\n",
       "      <th>Item</th>\n",
       "      <th>Year</th>\n",
       "      <th>Value</th>\n",
       "    </tr>\n",
       "  </thead>\n",
       "  <tbody>\n",
       "    <tr>\n",
       "      <th>17598</th>\n",
       "      <td>Sierra Leone</td>\n",
       "      <td>Bovine Meat</td>\n",
       "      <td>2012</td>\n",
       "      <td>11</td>\n",
       "    </tr>\n",
       "    <tr>\n",
       "      <th>13863</th>\n",
       "      <td>Morocco</td>\n",
       "      <td>Crustaceans</td>\n",
       "      <td>2007</td>\n",
       "      <td>12</td>\n",
       "    </tr>\n",
       "    <tr>\n",
       "      <th>12035</th>\n",
       "      <td>Mali</td>\n",
       "      <td>Cottonseed Oil</td>\n",
       "      <td>2009</td>\n",
       "      <td>18</td>\n",
       "    </tr>\n",
       "    <tr>\n",
       "      <th>17078</th>\n",
       "      <td>Senegal</td>\n",
       "      <td>Mutton &amp; Goat Meat</td>\n",
       "      <td>2012</td>\n",
       "      <td>44</td>\n",
       "    </tr>\n",
       "    <tr>\n",
       "      <th>22965</th>\n",
       "      <td>Zimbabwe</td>\n",
       "      <td>Beverages, Alcoholic</td>\n",
       "      <td>2009</td>\n",
       "      <td>50</td>\n",
       "    </tr>\n",
       "    <tr>\n",
       "      <th>19277</th>\n",
       "      <td>Swaziland</td>\n",
       "      <td>Grapefruit and products</td>\n",
       "      <td>2011</td>\n",
       "      <td>37</td>\n",
       "    </tr>\n",
       "    <tr>\n",
       "      <th>12319</th>\n",
       "      <td>Mauritania</td>\n",
       "      <td>Barley and products</td>\n",
       "      <td>2013</td>\n",
       "      <td>1</td>\n",
       "    </tr>\n",
       "    <tr>\n",
       "      <th>21688</th>\n",
       "      <td>United Republic of Tanzania</td>\n",
       "      <td>Coffee and products</td>\n",
       "      <td>2012</td>\n",
       "      <td>66</td>\n",
       "    </tr>\n",
       "    <tr>\n",
       "      <th>21476</th>\n",
       "      <td>United Republic of Tanzania</td>\n",
       "      <td>Oilcrops, Other</td>\n",
       "      <td>2010</td>\n",
       "      <td>59</td>\n",
       "    </tr>\n",
       "    <tr>\n",
       "      <th>9308</th>\n",
       "      <td>Kenya</td>\n",
       "      <td>Sorghum and products</td>\n",
       "      <td>2012</td>\n",
       "      <td>167</td>\n",
       "    </tr>\n",
       "  </tbody>\n",
       "</table>\n",
       "</div>"
      ],
      "text/plain": [
       "                           Country                     Item  Year  Value\n",
       "17598                 Sierra Leone              Bovine Meat  2012     11\n",
       "13863                      Morocco              Crustaceans  2007     12\n",
       "12035                         Mali           Cottonseed Oil  2009     18\n",
       "17078                      Senegal       Mutton & Goat Meat  2012     44\n",
       "22965                     Zimbabwe     Beverages, Alcoholic  2009     50\n",
       "19277                    Swaziland  Grapefruit and products  2011     37\n",
       "12319                   Mauritania      Barley and products  2013      1\n",
       "21688  United Republic of Tanzania      Coffee and products  2012     66\n",
       "21476  United Republic of Tanzania          Oilcrops, Other  2010     59\n",
       "9308                         Kenya     Sorghum and products  2012    167"
      ]
     },
     "execution_count": 5,
     "metadata": {},
     "output_type": "execute_result"
    }
   ],
   "source": [
    "df1.sample(10)"
   ]
  },
  {
   "cell_type": "code",
   "execution_count": 6,
   "id": "66192fda",
   "metadata": {},
   "outputs": [
    {
     "name": "stdout",
     "output_type": "stream",
     "text": [
      "<class 'pandas.core.frame.DataFrame'>\n",
      "RangeIndex: 23110 entries, 0 to 23109\n",
      "Data columns (total 4 columns):\n",
      " #   Column   Non-Null Count  Dtype \n",
      "---  ------   --------------  ----- \n",
      " 0   Country  23110 non-null  object\n",
      " 1   Item     23110 non-null  object\n",
      " 2   Year     23110 non-null  int64 \n",
      " 3   Value    23110 non-null  int64 \n",
      "dtypes: int64(2), object(2)\n",
      "memory usage: 722.3+ KB\n"
     ]
    }
   ],
   "source": [
    "df1.info()"
   ]
  },
  {
   "cell_type": "code",
   "execution_count": 7,
   "id": "8466e509",
   "metadata": {},
   "outputs": [
    {
     "data": {
      "text/plain": [
       "Country    0\n",
       "Item       0\n",
       "Year       0\n",
       "Value      0\n",
       "dtype: int64"
      ]
     },
     "execution_count": 7,
     "metadata": {},
     "output_type": "execute_result"
    }
   ],
   "source": [
    "df1.isnull().sum()"
   ]
  },
  {
   "cell_type": "code",
   "execution_count": 8,
   "id": "f07e9d8e",
   "metadata": {},
   "outputs": [
    {
     "data": {
      "text/plain": [
       "0"
      ]
     },
     "execution_count": 8,
     "metadata": {},
     "output_type": "execute_result"
    }
   ],
   "source": [
    "sum(df1.duplicated())"
   ]
  },
  {
   "cell_type": "markdown",
   "id": "9c8dd8d5",
   "metadata": {},
   "source": [
    "#### There are no missing values and no duplicates in the production dataset."
   ]
  },
  {
   "cell_type": "code",
   "execution_count": 9,
   "id": "73b617a8",
   "metadata": {},
   "outputs": [
    {
     "data": {
      "text/plain": [
       "Country    object\n",
       "Item       object\n",
       "Year        int64\n",
       "Value       int64\n",
       "dtype: object"
      ]
     },
     "execution_count": 9,
     "metadata": {},
     "output_type": "execute_result"
    }
   ],
   "source": [
    "df1.dtypes"
   ]
  },
  {
   "cell_type": "code",
   "execution_count": 10,
   "id": "df86e477",
   "metadata": {},
   "outputs": [
    {
     "data": {
      "text/plain": [
       "numpy.int64"
      ]
     },
     "execution_count": 10,
     "metadata": {},
     "output_type": "execute_result"
    }
   ],
   "source": [
    "type(df1['Year'][0])"
   ]
  },
  {
   "cell_type": "markdown",
   "id": "4a23eb52",
   "metadata": {},
   "source": [
    "- Change the year from int64 to DateObjects\n",
    "- Add units to Value to make them Quantities"
   ]
  },
  {
   "cell_type": "code",
   "execution_count": 11,
   "id": "440d872d",
   "metadata": {},
   "outputs": [
    {
     "data": {
      "text/plain": [
       "Country      45\n",
       "Item         94\n",
       "Year         10\n",
       "Value      2134\n",
       "dtype: int64"
      ]
     },
     "execution_count": 11,
     "metadata": {},
     "output_type": "execute_result"
    }
   ],
   "source": [
    "df1.nunique()"
   ]
  },
  {
   "cell_type": "code",
   "execution_count": 12,
   "id": "4b0d595e",
   "metadata": {},
   "outputs": [
    {
     "data": {
      "text/html": [
       "<div>\n",
       "<style scoped>\n",
       "    .dataframe tbody tr th:only-of-type {\n",
       "        vertical-align: middle;\n",
       "    }\n",
       "\n",
       "    .dataframe tbody tr th {\n",
       "        vertical-align: top;\n",
       "    }\n",
       "\n",
       "    .dataframe thead th {\n",
       "        text-align: right;\n",
       "    }\n",
       "</style>\n",
       "<table border=\"1\" class=\"dataframe\">\n",
       "  <thead>\n",
       "    <tr style=\"text-align: right;\">\n",
       "      <th></th>\n",
       "      <th>Year</th>\n",
       "      <th>Value</th>\n",
       "    </tr>\n",
       "  </thead>\n",
       "  <tbody>\n",
       "    <tr>\n",
       "      <th>count</th>\n",
       "      <td>23110.000000</td>\n",
       "      <td>23110.000000</td>\n",
       "    </tr>\n",
       "    <tr>\n",
       "      <th>mean</th>\n",
       "      <td>2008.498269</td>\n",
       "      <td>327.785201</td>\n",
       "    </tr>\n",
       "    <tr>\n",
       "      <th>std</th>\n",
       "      <td>2.871740</td>\n",
       "      <td>1607.940343</td>\n",
       "    </tr>\n",
       "    <tr>\n",
       "      <th>min</th>\n",
       "      <td>2004.000000</td>\n",
       "      <td>0.000000</td>\n",
       "    </tr>\n",
       "    <tr>\n",
       "      <th>25%</th>\n",
       "      <td>2006.000000</td>\n",
       "      <td>3.000000</td>\n",
       "    </tr>\n",
       "    <tr>\n",
       "      <th>50%</th>\n",
       "      <td>2008.000000</td>\n",
       "      <td>18.000000</td>\n",
       "    </tr>\n",
       "    <tr>\n",
       "      <th>75%</th>\n",
       "      <td>2011.000000</td>\n",
       "      <td>108.000000</td>\n",
       "    </tr>\n",
       "    <tr>\n",
       "      <th>max</th>\n",
       "      <td>2013.000000</td>\n",
       "      <td>54000.000000</td>\n",
       "    </tr>\n",
       "  </tbody>\n",
       "</table>\n",
       "</div>"
      ],
      "text/plain": [
       "               Year         Value\n",
       "count  23110.000000  23110.000000\n",
       "mean    2008.498269    327.785201\n",
       "std        2.871740   1607.940343\n",
       "min     2004.000000      0.000000\n",
       "25%     2006.000000      3.000000\n",
       "50%     2008.000000     18.000000\n",
       "75%     2011.000000    108.000000\n",
       "max     2013.000000  54000.000000"
      ]
     },
     "execution_count": 12,
     "metadata": {},
     "output_type": "execute_result"
    }
   ],
   "source": [
    "df1.describe()"
   ]
  },
  {
   "cell_type": "markdown",
   "id": "9c025fb8",
   "metadata": {},
   "source": [
    "#### Define"
   ]
  },
  {
   "cell_type": "markdown",
   "id": "80f61044",
   "metadata": {},
   "source": [
    "Change Year from int to DateTime."
   ]
  },
  {
   "cell_type": "code",
   "execution_count": 13,
   "id": "71938d27",
   "metadata": {},
   "outputs": [
    {
     "data": {
      "text/plain": [
       "0        2004\n",
       "1        2005\n",
       "2        2006\n",
       "3        2007\n",
       "4        2008\n",
       "         ... \n",
       "23105    2009\n",
       "23106    2010\n",
       "23107    2011\n",
       "23108    2012\n",
       "23109    2013\n",
       "Name: Year, Length: 23110, dtype: int64"
      ]
     },
     "execution_count": 13,
     "metadata": {},
     "output_type": "execute_result"
    }
   ],
   "source": [
    "df1.Year"
   ]
  },
  {
   "cell_type": "markdown",
   "id": "294f480d",
   "metadata": {},
   "source": [
    "#### Code"
   ]
  },
  {
   "cell_type": "code",
   "execution_count": 14,
   "id": "3680e21b",
   "metadata": {},
   "outputs": [
    {
     "data": {
      "text/plain": [
       "0        2004\n",
       "1        2005\n",
       "2        2006\n",
       "3        2007\n",
       "4        2008\n",
       "         ... \n",
       "23105    2009\n",
       "23106    2010\n",
       "23107    2011\n",
       "23108    2012\n",
       "23109    2013\n",
       "Name: Year, Length: 23110, dtype: int32"
      ]
     },
     "execution_count": 14,
     "metadata": {},
     "output_type": "execute_result"
    }
   ],
   "source": [
    "df1.Year.astype('int32')"
   ]
  },
  {
   "cell_type": "code",
   "execution_count": 15,
   "id": "ef0a70ca",
   "metadata": {},
   "outputs": [],
   "source": [
    "df1['Year'] = pd.to_datetime(df1['Year'], format='%Y')"
   ]
  },
  {
   "cell_type": "markdown",
   "id": "ad9fdbba",
   "metadata": {},
   "source": [
    "#### Test"
   ]
  },
  {
   "cell_type": "code",
   "execution_count": 16,
   "id": "1331f045",
   "metadata": {},
   "outputs": [
    {
     "data": {
      "text/plain": [
       "0       2004-01-01\n",
       "1       2005-01-01\n",
       "2       2006-01-01\n",
       "3       2007-01-01\n",
       "4       2008-01-01\n",
       "           ...    \n",
       "23105   2009-01-01\n",
       "23106   2010-01-01\n",
       "23107   2011-01-01\n",
       "23108   2012-01-01\n",
       "23109   2013-01-01\n",
       "Name: Year, Length: 23110, dtype: datetime64[ns]"
      ]
     },
     "execution_count": 16,
     "metadata": {},
     "output_type": "execute_result"
    }
   ],
   "source": [
    "df1.Year"
   ]
  },
  {
   "cell_type": "markdown",
   "id": "a77e8ba3",
   "metadata": {},
   "source": [
    "#### Adding Units to Values to make them Quantities"
   ]
  },
  {
   "cell_type": "code",
   "execution_count": 17,
   "id": "5217b661",
   "metadata": {},
   "outputs": [],
   "source": [
    "#df1.Value = [str(value)+' kt' for value in df1.Value]"
   ]
  },
  {
   "cell_type": "markdown",
   "id": "18fc41c8",
   "metadata": {},
   "source": [
    "##### Adding \"kt\" to the `value` column turns the said column to a string hence aggregate functions like sum() wouldn't work. I had to remove the\"kt\"."
   ]
  },
  {
   "cell_type": "code",
   "execution_count": 18,
   "id": "6b751274",
   "metadata": {},
   "outputs": [
    {
     "data": {
      "text/html": [
       "<div>\n",
       "<style scoped>\n",
       "    .dataframe tbody tr th:only-of-type {\n",
       "        vertical-align: middle;\n",
       "    }\n",
       "\n",
       "    .dataframe tbody tr th {\n",
       "        vertical-align: top;\n",
       "    }\n",
       "\n",
       "    .dataframe thead th {\n",
       "        text-align: right;\n",
       "    }\n",
       "</style>\n",
       "<table border=\"1\" class=\"dataframe\">\n",
       "  <thead>\n",
       "    <tr style=\"text-align: right;\">\n",
       "      <th></th>\n",
       "      <th></th>\n",
       "      <th></th>\n",
       "      <th>Value</th>\n",
       "    </tr>\n",
       "    <tr>\n",
       "      <th>Country</th>\n",
       "      <th>Year</th>\n",
       "      <th>Item</th>\n",
       "      <th></th>\n",
       "    </tr>\n",
       "  </thead>\n",
       "  <tbody>\n",
       "    <tr>\n",
       "      <th rowspan=\"5\" valign=\"top\">Algeria</th>\n",
       "      <th rowspan=\"5\" valign=\"top\">2004-01-01</th>\n",
       "      <th>Apples and products</th>\n",
       "      <td>165</td>\n",
       "    </tr>\n",
       "    <tr>\n",
       "      <th>Bananas</th>\n",
       "      <td>0</td>\n",
       "    </tr>\n",
       "    <tr>\n",
       "      <th>Barley and products</th>\n",
       "      <td>1212</td>\n",
       "    </tr>\n",
       "    <tr>\n",
       "      <th>Beans</th>\n",
       "      <td>2</td>\n",
       "    </tr>\n",
       "    <tr>\n",
       "      <th>Beer</th>\n",
       "      <td>110</td>\n",
       "    </tr>\n",
       "    <tr>\n",
       "      <th>...</th>\n",
       "      <th>...</th>\n",
       "      <th>...</th>\n",
       "      <td>...</td>\n",
       "    </tr>\n",
       "    <tr>\n",
       "      <th rowspan=\"5\" valign=\"top\">Zimbabwe</th>\n",
       "      <th rowspan=\"5\" valign=\"top\">2013-01-01</th>\n",
       "      <th>Tea (including mate)</th>\n",
       "      <td>19</td>\n",
       "    </tr>\n",
       "    <tr>\n",
       "      <th>Tomatoes and products</th>\n",
       "      <td>24</td>\n",
       "    </tr>\n",
       "    <tr>\n",
       "      <th>Vegetables, Other</th>\n",
       "      <td>203</td>\n",
       "    </tr>\n",
       "    <tr>\n",
       "      <th>Wheat and products</th>\n",
       "      <td>25</td>\n",
       "    </tr>\n",
       "    <tr>\n",
       "      <th>Wine</th>\n",
       "      <td>2</td>\n",
       "    </tr>\n",
       "  </tbody>\n",
       "</table>\n",
       "<p>23110 rows × 1 columns</p>\n",
       "</div>"
      ],
      "text/plain": [
       "                                           Value\n",
       "Country  Year       Item                        \n",
       "Algeria  2004-01-01 Apples and products      165\n",
       "                    Bananas                    0\n",
       "                    Barley and products     1212\n",
       "                    Beans                      2\n",
       "                    Beer                     110\n",
       "...                                          ...\n",
       "Zimbabwe 2013-01-01 Tea (including mate)      19\n",
       "                    Tomatoes and products     24\n",
       "                    Vegetables, Other        203\n",
       "                    Wheat and products        25\n",
       "                    Wine                       2\n",
       "\n",
       "[23110 rows x 1 columns]"
      ]
     },
     "execution_count": 18,
     "metadata": {},
     "output_type": "execute_result"
    }
   ],
   "source": [
    "df1.groupby(['Country','Year','Item']).sum()"
   ]
  },
  {
   "cell_type": "code",
   "execution_count": 19,
   "id": "f1ec1637",
   "metadata": {},
   "outputs": [],
   "source": [
    "total_production_value=  df1.groupby(['Country','Year']).sum()"
   ]
  },
  {
   "cell_type": "code",
   "execution_count": 20,
   "id": "0dcaa138",
   "metadata": {
    "scrolled": true
   },
   "outputs": [
    {
     "data": {
      "text/html": [
       "<div>\n",
       "<style scoped>\n",
       "    .dataframe tbody tr th:only-of-type {\n",
       "        vertical-align: middle;\n",
       "    }\n",
       "\n",
       "    .dataframe tbody tr th {\n",
       "        vertical-align: top;\n",
       "    }\n",
       "\n",
       "    .dataframe thead th {\n",
       "        text-align: right;\n",
       "    }\n",
       "</style>\n",
       "<table border=\"1\" class=\"dataframe\">\n",
       "  <thead>\n",
       "    <tr style=\"text-align: right;\">\n",
       "      <th></th>\n",
       "      <th></th>\n",
       "      <th>Value</th>\n",
       "    </tr>\n",
       "    <tr>\n",
       "      <th>Country</th>\n",
       "      <th>Year</th>\n",
       "      <th></th>\n",
       "    </tr>\n",
       "  </thead>\n",
       "  <tbody>\n",
       "    <tr>\n",
       "      <th rowspan=\"5\" valign=\"top\">Algeria</th>\n",
       "      <th>2004-01-01</th>\n",
       "      <td>15536</td>\n",
       "    </tr>\n",
       "    <tr>\n",
       "      <th>2005-01-01</th>\n",
       "      <td>15667</td>\n",
       "    </tr>\n",
       "    <tr>\n",
       "      <th>2006-01-01</th>\n",
       "      <td>16417</td>\n",
       "    </tr>\n",
       "    <tr>\n",
       "      <th>2007-01-01</th>\n",
       "      <td>14763</td>\n",
       "    </tr>\n",
       "    <tr>\n",
       "      <th>2008-01-01</th>\n",
       "      <td>13841</td>\n",
       "    </tr>\n",
       "    <tr>\n",
       "      <th>...</th>\n",
       "      <th>...</th>\n",
       "      <td>...</td>\n",
       "    </tr>\n",
       "    <tr>\n",
       "      <th rowspan=\"5\" valign=\"top\">Zimbabwe</th>\n",
       "      <th>2009-01-01</th>\n",
       "      <td>5754</td>\n",
       "    </tr>\n",
       "    <tr>\n",
       "      <th>2010-01-01</th>\n",
       "      <td>6777</td>\n",
       "    </tr>\n",
       "    <tr>\n",
       "      <th>2011-01-01</th>\n",
       "      <td>7551</td>\n",
       "    </tr>\n",
       "    <tr>\n",
       "      <th>2012-01-01</th>\n",
       "      <td>8173</td>\n",
       "    </tr>\n",
       "    <tr>\n",
       "      <th>2013-01-01</th>\n",
       "      <td>7914</td>\n",
       "    </tr>\n",
       "  </tbody>\n",
       "</table>\n",
       "<p>450 rows × 1 columns</p>\n",
       "</div>"
      ],
      "text/plain": [
       "                     Value\n",
       "Country  Year             \n",
       "Algeria  2004-01-01  15536\n",
       "         2005-01-01  15667\n",
       "         2006-01-01  16417\n",
       "         2007-01-01  14763\n",
       "         2008-01-01  13841\n",
       "...                    ...\n",
       "Zimbabwe 2009-01-01   5754\n",
       "         2010-01-01   6777\n",
       "         2011-01-01   7551\n",
       "         2012-01-01   8173\n",
       "         2013-01-01   7914\n",
       "\n",
       "[450 rows x 1 columns]"
      ]
     },
     "execution_count": 20,
     "metadata": {},
     "output_type": "execute_result"
    }
   ],
   "source": [
    "total_production_value"
   ]
  },
  {
   "cell_type": "markdown",
   "id": "01d6043f",
   "metadata": {},
   "source": [
    "I want this code so the title can be bold\n",
    "\n",
    "\n",
    "\n",
    "plt.title('Food suppliers trend',{'fontsize': 20,'fontweight' :'bold'})"
   ]
  },
  {
   "cell_type": "markdown",
   "id": "ba232d9b",
   "metadata": {},
   "source": [
    "### Visualizations for the production dataset"
   ]
  },
  {
   "cell_type": "markdown",
   "id": "8919a108",
   "metadata": {},
   "source": [
    "### 1. What Year had the highest food production value ?"
   ]
  },
  {
   "cell_type": "code",
   "execution_count": 21,
   "id": "57437ac1",
   "metadata": {
    "scrolled": true
   },
   "outputs": [
    {
     "data": {
      "image/png": "[encoded data removed]",
      "text/plain": [
       "<Figure size 360x144 with 1 Axes>"
      ]
     },
     "metadata": {
      "needs_background": "light"
     },
     "output_type": "display_data"
    }
   ],
   "source": [
    "plt.figure(figsize=(5,2))\n",
    "color = sns.color_palette()[0]\n",
    "sns.barplot(data = df1, x='Year', y= 'Value',color=color)\n",
    "plt.title('What year had the highest food production value')\n",
    "plt.ylabel('Value in kiloton(kt)')\n",
    "plt.xticks(rotation=90)\n",
    "plt.show()"
   ]
  },
  {
   "cell_type": "code",
   "execution_count": 22,
   "id": "b17a084c",
   "metadata": {},
   "outputs": [
    {
     "data": {
      "text/plain": [
       "2004-01-01    2312\n",
       "2005-01-01    2312\n",
       "2006-01-01    2312\n",
       "2007-01-01    2312\n",
       "2008-01-01    2312\n",
       "2009-01-01    2312\n",
       "2010-01-01    2312\n",
       "2011-01-01    2312\n",
       "2012-01-01    2307\n",
       "2013-01-01    2307\n",
       "Name: Year, dtype: int64"
      ]
     },
     "execution_count": 22,
     "metadata": {},
     "output_type": "execute_result"
    }
   ],
   "source": [
    "df1.Year.value_counts()"
   ]
  },
  {
   "cell_type": "markdown",
   "id": "844b3ce5",
   "metadata": {},
   "source": [
    "### 2. Top 3 Food Producing Countries in Africa"
   ]
  },
  {
   "cell_type": "code",
   "execution_count": 23,
   "id": "b5252414",
   "metadata": {},
   "outputs": [
    {
     "data": {
      "text/plain": [
       "Index(['Nigeria', 'Egypt', 'South Africa', 'Ethiopia',\n",
       "       'United Republic of Tanzania', 'Sudan', 'Ghana', 'Uganda', 'Morocco',\n",
       "       'Kenya', 'Cameroon', 'Angola', 'Algeria', 'Cote d'Ivoire', 'Mozambique',\n",
       "       'Malawi', 'Madagascar', 'Burkina Faso', 'Rwanda', 'Tunisia', 'Mali'],\n",
       "      dtype='object', name='Country')"
      ]
     },
     "execution_count": 23,
     "metadata": {},
     "output_type": "execute_result"
    }
   ],
   "source": [
    "order = df1.groupby([\"Country\"])[\"Value\"].sum().sort_values(ascending=False)[0:21].index\n",
    "order"
   ]
  },
  {
   "cell_type": "code",
   "execution_count": 24,
   "id": "ac7b1be3",
   "metadata": {
    "scrolled": true
   },
   "outputs": [
    {
     "data": {
      "image/png": "[encoded data removed]",
      "text/plain": [
       "<Figure size 720x144 with 1 Axes>"
      ]
     },
     "metadata": {
      "needs_background": "light"
     },
     "output_type": "display_data"
    }
   ],
   "source": [
    "plt.figure(figsize=(10,2))\n",
    "color = sns.color_palette()[0]\n",
    "sns.barplot(data = df1, x='Country', y= 'Value',color=color, order=order)\n",
    "plt.title('Top 3 Food Producing Countries in Africa')\n",
    "plt.ylabel('Value in kiloton(kt)')\n",
    "plt.xticks(rotation=90)\n",
    "plt.show()"
   ]
  },
  {
   "cell_type": "markdown",
   "id": "1f86df5c",
   "metadata": {},
   "source": [
    "The visualization above shows that\n",
    "**Nigeria, Egypt and South Africa are the top three food producing countries in Africa between 2004 and 2013.**"
   ]
  },
  {
   "cell_type": "markdown",
   "id": "f330a41a",
   "metadata": {},
   "source": [
    "### 3. Top 5 Food Items Produced in Africa"
   ]
  },
  {
   "cell_type": "code",
   "execution_count": 25,
   "id": "14738be3",
   "metadata": {},
   "outputs": [
    {
     "data": {
      "text/plain": [
       "Milk - Excluding Butter         450\n",
       "Vegetables, Other               450\n",
       "Mutton & Goat Meat              450\n",
       "Bovine Meat                     450\n",
       "Offals, Edible                  450\n",
       "                               ... \n",
       "Olive Oil                        40\n",
       "Olives (including preserved)     40\n",
       "Rape and Mustard Oil             40\n",
       "Rye and products                 30\n",
       "Cloves                           30\n",
       "Name: Item, Length: 94, dtype: int64"
      ]
     },
     "execution_count": 25,
     "metadata": {},
     "output_type": "execute_result"
    }
   ],
   "source": [
    "df1.Item.value_counts()"
   ]
  },
  {
   "cell_type": "code",
   "execution_count": 26,
   "id": "ec4c342a",
   "metadata": {},
   "outputs": [],
   "source": [
    "item_order = df1.Item.value_counts().index[:51]"
   ]
  },
  {
   "cell_type": "code",
   "execution_count": 27,
   "id": "9a8d544c",
   "metadata": {},
   "outputs": [
    {
     "data": {
      "image/png": "[encoded data removed]",
      "text/plain": [
       "<Figure size 720x144 with 1 Axes>"
      ]
     },
     "metadata": {
      "needs_background": "light"
     },
     "output_type": "display_data"
    }
   ],
   "source": [
    "color = sns.color_palette()[0]\n",
    "plt.figure(figsize=(10,2))\n",
    "sns.countplot(data=df1, x='Item',color = color, order = item_order)\n",
    "plt.title('Top 5 Food Items Produced in Africa')\n",
    "\n",
    "plt.xticks(rotation=90)\n",
    "plt.show()"
   ]
  },
  {
   "cell_type": "markdown",
   "id": "c0cd677a",
   "metadata": {},
   "source": [
    "The bar chart above shows that **Milk(excluding butter),Vegetables,Mutton & Goat Meat,Bovine Meat,Offals(edible),Fats,Animals,Raw and Fruits are the top produced foods in Africa with a count of 450 each.**"
   ]
  },
  {
   "cell_type": "markdown",
   "id": "eb52ed19",
   "metadata": {},
   "source": [
    "Loading the second dataset."
   ]
  },
  {
   "cell_type": "code",
   "execution_count": 28,
   "id": "5becc7cd",
   "metadata": {},
   "outputs": [],
   "source": [
    "df2 = pd.read_csv('Africa Food Supply (2004 - 2013).csv')"
   ]
  },
  {
   "cell_type": "code",
   "execution_count": 29,
   "id": "c97880d7",
   "metadata": {},
   "outputs": [
    {
     "data": {
      "text/html": [
       "<div>\n",
       "<style scoped>\n",
       "    .dataframe tbody tr th:only-of-type {\n",
       "        vertical-align: middle;\n",
       "    }\n",
       "\n",
       "    .dataframe tbody tr th {\n",
       "        vertical-align: top;\n",
       "    }\n",
       "\n",
       "    .dataframe thead th {\n",
       "        text-align: right;\n",
       "    }\n",
       "</style>\n",
       "<table border=\"1\" class=\"dataframe\">\n",
       "  <thead>\n",
       "    <tr style=\"text-align: right;\">\n",
       "      <th></th>\n",
       "      <th>Country</th>\n",
       "      <th>Year</th>\n",
       "      <th>Value</th>\n",
       "    </tr>\n",
       "  </thead>\n",
       "  <tbody>\n",
       "    <tr>\n",
       "      <th>0</th>\n",
       "      <td>Algeria</td>\n",
       "      <td>2004</td>\n",
       "      <td>2987</td>\n",
       "    </tr>\n",
       "    <tr>\n",
       "      <th>1</th>\n",
       "      <td>Algeria</td>\n",
       "      <td>2005</td>\n",
       "      <td>2958</td>\n",
       "    </tr>\n",
       "    <tr>\n",
       "      <th>2</th>\n",
       "      <td>Algeria</td>\n",
       "      <td>2006</td>\n",
       "      <td>3047</td>\n",
       "    </tr>\n",
       "    <tr>\n",
       "      <th>3</th>\n",
       "      <td>Algeria</td>\n",
       "      <td>2007</td>\n",
       "      <td>3041</td>\n",
       "    </tr>\n",
       "    <tr>\n",
       "      <th>4</th>\n",
       "      <td>Algeria</td>\n",
       "      <td>2008</td>\n",
       "      <td>3048</td>\n",
       "    </tr>\n",
       "  </tbody>\n",
       "</table>\n",
       "</div>"
      ],
      "text/plain": [
       "   Country  Year  Value\n",
       "0  Algeria  2004   2987\n",
       "1  Algeria  2005   2958\n",
       "2  Algeria  2006   3047\n",
       "3  Algeria  2007   3041\n",
       "4  Algeria  2008   3048"
      ]
     },
     "execution_count": 29,
     "metadata": {},
     "output_type": "execute_result"
    }
   ],
   "source": [
    "df2.head()"
   ]
  },
  {
   "cell_type": "code",
   "execution_count": 30,
   "id": "2668217e",
   "metadata": {},
   "outputs": [
    {
     "data": {
      "text/html": [
       "<div>\n",
       "<style scoped>\n",
       "    .dataframe tbody tr th:only-of-type {\n",
       "        vertical-align: middle;\n",
       "    }\n",
       "\n",
       "    .dataframe tbody tr th {\n",
       "        vertical-align: top;\n",
       "    }\n",
       "\n",
       "    .dataframe thead th {\n",
       "        text-align: right;\n",
       "    }\n",
       "</style>\n",
       "<table border=\"1\" class=\"dataframe\">\n",
       "  <thead>\n",
       "    <tr style=\"text-align: right;\">\n",
       "      <th></th>\n",
       "      <th>Country</th>\n",
       "      <th>Year</th>\n",
       "      <th>Value</th>\n",
       "    </tr>\n",
       "  </thead>\n",
       "  <tbody>\n",
       "    <tr>\n",
       "      <th>52</th>\n",
       "      <td>Cabo Verde</td>\n",
       "      <td>2006</td>\n",
       "      <td>2513</td>\n",
       "    </tr>\n",
       "    <tr>\n",
       "      <th>210</th>\n",
       "      <td>Liberia</td>\n",
       "      <td>2004</td>\n",
       "      <td>2092</td>\n",
       "    </tr>\n",
       "    <tr>\n",
       "      <th>75</th>\n",
       "      <td>Central African Republic</td>\n",
       "      <td>2009</td>\n",
       "      <td>2139</td>\n",
       "    </tr>\n",
       "    <tr>\n",
       "      <th>20</th>\n",
       "      <td>Benin</td>\n",
       "      <td>2004</td>\n",
       "      <td>2461</td>\n",
       "    </tr>\n",
       "    <tr>\n",
       "      <th>370</th>\n",
       "      <td>Sudan</td>\n",
       "      <td>2012</td>\n",
       "      <td>2301</td>\n",
       "    </tr>\n",
       "    <tr>\n",
       "      <th>1</th>\n",
       "      <td>Algeria</td>\n",
       "      <td>2005</td>\n",
       "      <td>2958</td>\n",
       "    </tr>\n",
       "    <tr>\n",
       "      <th>339</th>\n",
       "      <td>Sao Tome and Principe</td>\n",
       "      <td>2013</td>\n",
       "      <td>2400</td>\n",
       "    </tr>\n",
       "    <tr>\n",
       "      <th>320</th>\n",
       "      <td>Rwanda</td>\n",
       "      <td>2004</td>\n",
       "      <td>1969</td>\n",
       "    </tr>\n",
       "    <tr>\n",
       "      <th>284</th>\n",
       "      <td>Mozambique</td>\n",
       "      <td>2008</td>\n",
       "      <td>2164</td>\n",
       "    </tr>\n",
       "    <tr>\n",
       "      <th>321</th>\n",
       "      <td>Rwanda</td>\n",
       "      <td>2005</td>\n",
       "      <td>2037</td>\n",
       "    </tr>\n",
       "  </tbody>\n",
       "</table>\n",
       "</div>"
      ],
      "text/plain": [
       "                      Country  Year  Value\n",
       "52                 Cabo Verde  2006   2513\n",
       "210                   Liberia  2004   2092\n",
       "75   Central African Republic  2009   2139\n",
       "20                      Benin  2004   2461\n",
       "370                     Sudan  2012   2301\n",
       "1                     Algeria  2005   2958\n",
       "339     Sao Tome and Principe  2013   2400\n",
       "320                    Rwanda  2004   1969\n",
       "284                Mozambique  2008   2164\n",
       "321                    Rwanda  2005   2037"
      ]
     },
     "execution_count": 30,
     "metadata": {},
     "output_type": "execute_result"
    }
   ],
   "source": [
    "df2.sample(10)"
   ]
  },
  {
   "cell_type": "code",
   "execution_count": 31,
   "id": "d9b55644",
   "metadata": {},
   "outputs": [
    {
     "data": {
      "text/plain": [
       "(450, 3)"
      ]
     },
     "execution_count": 31,
     "metadata": {},
     "output_type": "execute_result"
    }
   ],
   "source": [
    "df2.shape"
   ]
  },
  {
   "cell_type": "markdown",
   "id": "6c04e51f",
   "metadata": {},
   "source": [
    "The second dataset which is the Africa Food Supply dataset consists of 450 rows and 3 columns."
   ]
  },
  {
   "cell_type": "code",
   "execution_count": 32,
   "id": "41525aba",
   "metadata": {},
   "outputs": [
    {
     "data": {
      "text/plain": [
       "Country     45\n",
       "Year        10\n",
       "Value      373\n",
       "dtype: int64"
      ]
     },
     "execution_count": 32,
     "metadata": {},
     "output_type": "execute_result"
    }
   ],
   "source": [
    "df2.nunique()"
   ]
  },
  {
   "cell_type": "code",
   "execution_count": 33,
   "id": "7fcab008",
   "metadata": {},
   "outputs": [
    {
     "name": "stdout",
     "output_type": "stream",
     "text": [
      "<class 'pandas.core.frame.DataFrame'>\n",
      "RangeIndex: 450 entries, 0 to 449\n",
      "Data columns (total 3 columns):\n",
      " #   Column   Non-Null Count  Dtype \n",
      "---  ------   --------------  ----- \n",
      " 0   Country  450 non-null    object\n",
      " 1   Year     450 non-null    int64 \n",
      " 2   Value    450 non-null    int64 \n",
      "dtypes: int64(2), object(1)\n",
      "memory usage: 10.7+ KB\n"
     ]
    }
   ],
   "source": [
    "df2.info()"
   ]
  },
  {
   "cell_type": "code",
   "execution_count": 34,
   "id": "82b77ce0",
   "metadata": {},
   "outputs": [
    {
     "data": {
      "text/html": [
       "<div>\n",
       "<style scoped>\n",
       "    .dataframe tbody tr th:only-of-type {\n",
       "        vertical-align: middle;\n",
       "    }\n",
       "\n",
       "    .dataframe tbody tr th {\n",
       "        vertical-align: top;\n",
       "    }\n",
       "\n",
       "    .dataframe thead th {\n",
       "        text-align: right;\n",
       "    }\n",
       "</style>\n",
       "<table border=\"1\" class=\"dataframe\">\n",
       "  <thead>\n",
       "    <tr style=\"text-align: right;\">\n",
       "      <th></th>\n",
       "      <th>Year</th>\n",
       "      <th>Value</th>\n",
       "    </tr>\n",
       "  </thead>\n",
       "  <tbody>\n",
       "    <tr>\n",
       "      <th>count</th>\n",
       "      <td>450.000000</td>\n",
       "      <td>450.000000</td>\n",
       "    </tr>\n",
       "    <tr>\n",
       "      <th>mean</th>\n",
       "      <td>2008.500000</td>\n",
       "      <td>2469.775556</td>\n",
       "    </tr>\n",
       "    <tr>\n",
       "      <th>std</th>\n",
       "      <td>2.875478</td>\n",
       "      <td>379.140143</td>\n",
       "    </tr>\n",
       "    <tr>\n",
       "      <th>min</th>\n",
       "      <td>2004.000000</td>\n",
       "      <td>1781.000000</td>\n",
       "    </tr>\n",
       "    <tr>\n",
       "      <th>25%</th>\n",
       "      <td>2006.000000</td>\n",
       "      <td>2174.000000</td>\n",
       "    </tr>\n",
       "    <tr>\n",
       "      <th>50%</th>\n",
       "      <td>2008.500000</td>\n",
       "      <td>2376.000000</td>\n",
       "    </tr>\n",
       "    <tr>\n",
       "      <th>75%</th>\n",
       "      <td>2011.000000</td>\n",
       "      <td>2681.750000</td>\n",
       "    </tr>\n",
       "    <tr>\n",
       "      <th>max</th>\n",
       "      <td>2013.000000</td>\n",
       "      <td>3561.000000</td>\n",
       "    </tr>\n",
       "  </tbody>\n",
       "</table>\n",
       "</div>"
      ],
      "text/plain": [
       "              Year        Value\n",
       "count   450.000000   450.000000\n",
       "mean   2008.500000  2469.775556\n",
       "std       2.875478   379.140143\n",
       "min    2004.000000  1781.000000\n",
       "25%    2006.000000  2174.000000\n",
       "50%    2008.500000  2376.000000\n",
       "75%    2011.000000  2681.750000\n",
       "max    2013.000000  3561.000000"
      ]
     },
     "execution_count": 34,
     "metadata": {},
     "output_type": "execute_result"
    }
   ],
   "source": [
    "df2.describe()"
   ]
  },
  {
   "cell_type": "code",
   "execution_count": 35,
   "id": "391b9f49",
   "metadata": {},
   "outputs": [
    {
     "data": {
      "text/plain": [
       "0"
      ]
     },
     "execution_count": 35,
     "metadata": {},
     "output_type": "execute_result"
    }
   ],
   "source": [
    "sum(df2.duplicated())"
   ]
  },
  {
   "cell_type": "markdown",
   "id": "07335ced",
   "metadata": {},
   "source": [
    "#### There are no missing values and no duplicates in the supply dataset."
   ]
  },
  {
   "cell_type": "code",
   "execution_count": 36,
   "id": "61466552",
   "metadata": {},
   "outputs": [
    {
     "data": {
      "text/plain": [
       "Country    object\n",
       "Year        int64\n",
       "Value       int64\n",
       "dtype: object"
      ]
     },
     "execution_count": 36,
     "metadata": {},
     "output_type": "execute_result"
    }
   ],
   "source": [
    "df2.dtypes"
   ]
  },
  {
   "cell_type": "code",
   "execution_count": 37,
   "id": "30cad510",
   "metadata": {},
   "outputs": [
    {
     "data": {
      "text/plain": [
       "numpy.int64"
      ]
     },
     "execution_count": 37,
     "metadata": {},
     "output_type": "execute_result"
    }
   ],
   "source": [
    "type(df2['Year'][0])"
   ]
  },
  {
   "cell_type": "markdown",
   "id": "2e2b6670",
   "metadata": {},
   "source": [
    "- Change the year from int64 to DateObjects\n",
    "- Add units to Value to make them Quantities"
   ]
  },
  {
   "cell_type": "markdown",
   "id": "430a9811",
   "metadata": {},
   "source": [
    "#### Define"
   ]
  },
  {
   "cell_type": "markdown",
   "id": "2c0e7936",
   "metadata": {},
   "source": [
    "Change Year from int to DateTime."
   ]
  },
  {
   "cell_type": "code",
   "execution_count": 38,
   "id": "50807be5",
   "metadata": {},
   "outputs": [
    {
     "data": {
      "text/plain": [
       "0      2004\n",
       "1      2005\n",
       "2      2006\n",
       "3      2007\n",
       "4      2008\n",
       "       ... \n",
       "445    2009\n",
       "446    2010\n",
       "447    2011\n",
       "448    2012\n",
       "449    2013\n",
       "Name: Year, Length: 450, dtype: int64"
      ]
     },
     "execution_count": 38,
     "metadata": {},
     "output_type": "execute_result"
    }
   ],
   "source": [
    "df2.Year"
   ]
  },
  {
   "cell_type": "markdown",
   "id": "ea1df5d3",
   "metadata": {},
   "source": [
    "#### Code"
   ]
  },
  {
   "cell_type": "code",
   "execution_count": 39,
   "id": "ae1bc129",
   "metadata": {},
   "outputs": [],
   "source": [
    "df2['Year'] = pd.to_datetime(df2['Year'], format='%Y')"
   ]
  },
  {
   "cell_type": "markdown",
   "id": "2c057ef4",
   "metadata": {},
   "source": [
    "#### Test"
   ]
  },
  {
   "cell_type": "code",
   "execution_count": 40,
   "id": "208a8de7",
   "metadata": {},
   "outputs": [
    {
     "data": {
      "text/plain": [
       "0     2004-01-01\n",
       "1     2005-01-01\n",
       "2     2006-01-01\n",
       "3     2007-01-01\n",
       "4     2008-01-01\n",
       "         ...    \n",
       "445   2009-01-01\n",
       "446   2010-01-01\n",
       "447   2011-01-01\n",
       "448   2012-01-01\n",
       "449   2013-01-01\n",
       "Name: Year, Length: 450, dtype: datetime64[ns]"
      ]
     },
     "execution_count": 40,
     "metadata": {},
     "output_type": "execute_result"
    }
   ],
   "source": [
    "df2.Year"
   ]
  },
  {
   "cell_type": "markdown",
   "id": "353780cb",
   "metadata": {},
   "source": [
    "#### Define"
   ]
  },
  {
   "cell_type": "markdown",
   "id": "c540a43b",
   "metadata": {},
   "source": [
    "Add units to `Value` (kcal/person/day)."
   ]
  },
  {
   "cell_type": "markdown",
   "id": "23b69dcb",
   "metadata": {},
   "source": [
    "#### Code"
   ]
  },
  {
   "cell_type": "code",
   "execution_count": 41,
   "id": "c9866d8b",
   "metadata": {},
   "outputs": [],
   "source": [
    "#df2.Value = [str(value)+' (kcal/person/day)' for value in df2.Value]"
   ]
  },
  {
   "cell_type": "markdown",
   "id": "a854abea",
   "metadata": {},
   "source": [
    "#### Test"
   ]
  },
  {
   "cell_type": "code",
   "execution_count": 42,
   "id": "ee5a5c4f",
   "metadata": {},
   "outputs": [
    {
     "data": {
      "text/plain": [
       "0      2987\n",
       "1      2958\n",
       "2      3047\n",
       "3      3041\n",
       "4      3048\n",
       "       ... \n",
       "445    2147\n",
       "446    2168\n",
       "447    2200\n",
       "448    2197\n",
       "449    2110\n",
       "Name: Value, Length: 450, dtype: int64"
      ]
     },
     "execution_count": 42,
     "metadata": {},
     "output_type": "execute_result"
    }
   ],
   "source": [
    "df2.Value"
   ]
  },
  {
   "cell_type": "code",
   "execution_count": 43,
   "id": "0b734037",
   "metadata": {},
   "outputs": [
    {
     "data": {
      "text/plain": [
       "numpy.int64"
      ]
     },
     "execution_count": 43,
     "metadata": {},
     "output_type": "execute_result"
    }
   ],
   "source": [
    "type(df2['Value'][0])"
   ]
  },
  {
   "cell_type": "markdown",
   "id": "db03031b",
   "metadata": {},
   "source": [
    "##### Adding \"(kcal/person/day)\" to the `value` column turns the said column to a string hence aggregate functions like sum() wouldn't work. I had to remove the\"(kcal/person/day)\"."
   ]
  },
  {
   "cell_type": "markdown",
   "id": "90824b9c",
   "metadata": {},
   "source": [
    "Grouping the dataset by Countries."
   ]
  },
  {
   "cell_type": "code",
   "execution_count": 44,
   "id": "c74163ba",
   "metadata": {
    "scrolled": true
   },
   "outputs": [],
   "source": [
    "total_supply_value=df2.groupby(['Country','Year']).sum()"
   ]
  },
  {
   "cell_type": "code",
   "execution_count": 45,
   "id": "b11265e1",
   "metadata": {
    "scrolled": true
   },
   "outputs": [
    {
     "data": {
      "text/html": [
       "<div>\n",
       "<style scoped>\n",
       "    .dataframe tbody tr th:only-of-type {\n",
       "        vertical-align: middle;\n",
       "    }\n",
       "\n",
       "    .dataframe tbody tr th {\n",
       "        vertical-align: top;\n",
       "    }\n",
       "\n",
       "    .dataframe thead th {\n",
       "        text-align: right;\n",
       "    }\n",
       "</style>\n",
       "<table border=\"1\" class=\"dataframe\">\n",
       "  <thead>\n",
       "    <tr style=\"text-align: right;\">\n",
       "      <th></th>\n",
       "      <th></th>\n",
       "      <th>Value</th>\n",
       "    </tr>\n",
       "    <tr>\n",
       "      <th>Country</th>\n",
       "      <th>Year</th>\n",
       "      <th></th>\n",
       "    </tr>\n",
       "  </thead>\n",
       "  <tbody>\n",
       "    <tr>\n",
       "      <th rowspan=\"5\" valign=\"top\">Algeria</th>\n",
       "      <th>2004-01-01</th>\n",
       "      <td>2987</td>\n",
       "    </tr>\n",
       "    <tr>\n",
       "      <th>2005-01-01</th>\n",
       "      <td>2958</td>\n",
       "    </tr>\n",
       "    <tr>\n",
       "      <th>2006-01-01</th>\n",
       "      <td>3047</td>\n",
       "    </tr>\n",
       "    <tr>\n",
       "      <th>2007-01-01</th>\n",
       "      <td>3041</td>\n",
       "    </tr>\n",
       "    <tr>\n",
       "      <th>2008-01-01</th>\n",
       "      <td>3048</td>\n",
       "    </tr>\n",
       "    <tr>\n",
       "      <th>...</th>\n",
       "      <th>...</th>\n",
       "      <td>...</td>\n",
       "    </tr>\n",
       "    <tr>\n",
       "      <th rowspan=\"5\" valign=\"top\">Zimbabwe</th>\n",
       "      <th>2009-01-01</th>\n",
       "      <td>2147</td>\n",
       "    </tr>\n",
       "    <tr>\n",
       "      <th>2010-01-01</th>\n",
       "      <td>2168</td>\n",
       "    </tr>\n",
       "    <tr>\n",
       "      <th>2011-01-01</th>\n",
       "      <td>2200</td>\n",
       "    </tr>\n",
       "    <tr>\n",
       "      <th>2012-01-01</th>\n",
       "      <td>2197</td>\n",
       "    </tr>\n",
       "    <tr>\n",
       "      <th>2013-01-01</th>\n",
       "      <td>2110</td>\n",
       "    </tr>\n",
       "  </tbody>\n",
       "</table>\n",
       "<p>450 rows × 1 columns</p>\n",
       "</div>"
      ],
      "text/plain": [
       "                     Value\n",
       "Country  Year             \n",
       "Algeria  2004-01-01   2987\n",
       "         2005-01-01   2958\n",
       "         2006-01-01   3047\n",
       "         2007-01-01   3041\n",
       "         2008-01-01   3048\n",
       "...                    ...\n",
       "Zimbabwe 2009-01-01   2147\n",
       "         2010-01-01   2168\n",
       "         2011-01-01   2200\n",
       "         2012-01-01   2197\n",
       "         2013-01-01   2110\n",
       "\n",
       "[450 rows x 1 columns]"
      ]
     },
     "execution_count": 45,
     "metadata": {},
     "output_type": "execute_result"
    }
   ],
   "source": [
    "total_supply_value"
   ]
  },
  {
   "cell_type": "markdown",
   "id": "0232d14c",
   "metadata": {},
   "source": [
    "### Visualization For Consumption(Supply)"
   ]
  },
  {
   "cell_type": "markdown",
   "id": "46f177ff",
   "metadata": {},
   "source": [
    "### 4. What year had the highest food consumption value ?"
   ]
  },
  {
   "cell_type": "code",
   "execution_count": 46,
   "id": "79bfbf3b",
   "metadata": {},
   "outputs": [
    {
     "data": {
      "image/png": "[encoded data removed]",
      "text/plain": [
       "<Figure size 720x360 with 1 Axes>"
      ]
     },
     "metadata": {
      "needs_background": "light"
     },
     "output_type": "display_data"
    }
   ],
   "source": [
    "plt.figure(figsize=(10,5))\n",
    "color = sns.color_palette()[0]\n",
    "sns.barplot(data = df2, x='Year', y= 'Value',color=color)\n",
    "plt.title('What year had the highest food consumption value')\n",
    "plt.ylabel('kcal per capita per day')\n",
    "plt.xticks(rotation=90)\n",
    "plt.show()"
   ]
  },
  {
   "cell_type": "markdown",
   "id": "3def3cd3",
   "metadata": {},
   "source": [
    "### 5. Top 3 Food Suppliers in Africa"
   ]
  },
  {
   "cell_type": "code",
   "execution_count": 47,
   "id": "fdc6add8",
   "metadata": {},
   "outputs": [
    {
     "data": {
      "text/plain": [
       "Index(['Egypt', 'Tunisia', 'Morocco', 'Algeria', 'Mauritius', 'South Africa',\n",
       "       'Ghana', 'Cote d'Ivoire', 'Mali', 'Mauritania', 'Gabon', 'Nigeria',\n",
       "       'Burkina Faso', 'Gambia', 'Lesotho', 'Cabo Verde', 'Benin', 'Guinea',\n",
       "       'Niger', 'Cameroon', 'Sao Tome and Principe'],\n",
       "      dtype='object', name='Country')"
      ]
     },
     "execution_count": 47,
     "metadata": {},
     "output_type": "execute_result"
    }
   ],
   "source": [
    "country_order = df2.groupby([\"Country\"])[\"Value\"].sum().sort_values(ascending=False)[0:21].index\n",
    "country_order"
   ]
  },
  {
   "cell_type": "code",
   "execution_count": 48,
   "id": "3eaa8a49",
   "metadata": {},
   "outputs": [
    {
     "data": {
      "image/png": "[encoded data removed]",
      "text/plain": [
       "<Figure size 720x360 with 1 Axes>"
      ]
     },
     "metadata": {
      "needs_background": "light"
     },
     "output_type": "display_data"
    }
   ],
   "source": [
    "plt.figure(figsize=(10,5))\n",
    "color = sns.color_palette()[0]\n",
    "sns.barplot(data = df2, x='Country', y= 'Value',color=color,order=country_order)\n",
    "plt.title('Top 3 Food Consuming Countries in Africa')\n",
    "plt.ylabel('kcal per capita per day')\n",
    "plt.xticks(rotation=90)\n",
    "plt.show()"
   ]
  },
  {
   "cell_type": "markdown",
   "id": "f5481410",
   "metadata": {},
   "source": [
    "This visualisation shows us that **Egypt, Morocco and Tunisia had the highest food supply per capita between 2004 and 2013.**"
   ]
  },
  {
   "cell_type": "markdown",
   "id": "25e8c34e",
   "metadata": {},
   "source": [
    "### Outliers"
   ]
  },
  {
   "cell_type": "markdown",
   "id": "238071a9",
   "metadata": {},
   "source": [
    "- Average and median food production, the outliers, Quartile and interquartile ranges."
   ]
  },
  {
   "cell_type": "code",
   "execution_count": 49,
   "id": "ba787f8a",
   "metadata": {},
   "outputs": [
    {
     "data": {
      "text/plain": [
       "327.7852012115967"
      ]
     },
     "execution_count": 49,
     "metadata": {},
     "output_type": "execute_result"
    }
   ],
   "source": [
    "avg_food_production = df1.Value.mean()\n",
    "avg_food_production"
   ]
  },
  {
   "cell_type": "markdown",
   "id": "f9e7cbd7",
   "metadata": {},
   "source": [
    "The average food production value is 327.785"
   ]
  },
  {
   "cell_type": "code",
   "execution_count": 50,
   "id": "b73e4c9f",
   "metadata": {},
   "outputs": [
    {
     "data": {
      "text/plain": [
       "18.0"
      ]
     },
     "execution_count": 50,
     "metadata": {},
     "output_type": "execute_result"
    }
   ],
   "source": [
    "median_food_production = df1.Value.median()\n",
    "median_food_production"
   ]
  },
  {
   "cell_type": "markdown",
   "id": "fcb8f9e7",
   "metadata": {},
   "source": [
    "The median food production value is 18.0"
   ]
  },
  {
   "cell_type": "code",
   "execution_count": 51,
   "id": "6adb790b",
   "metadata": {},
   "outputs": [
    {
     "data": {
      "text/plain": [
       "2469.7755555555555"
      ]
     },
     "execution_count": 51,
     "metadata": {},
     "output_type": "execute_result"
    }
   ],
   "source": [
    "avg_food_supply = df2.Value.mean()\n",
    "avg_food_supply"
   ]
  },
  {
   "cell_type": "markdown",
   "id": "f549014b",
   "metadata": {},
   "source": [
    "The average suply value is 2469.776"
   ]
  },
  {
   "cell_type": "code",
   "execution_count": 52,
   "id": "6b314f18",
   "metadata": {
    "scrolled": true
   },
   "outputs": [
    {
     "data": {
      "text/plain": [
       "2376.0"
      ]
     },
     "execution_count": 52,
     "metadata": {},
     "output_type": "execute_result"
    }
   ],
   "source": [
    "median_food_supply  = df2.Value.median()\n",
    "median_food_supply"
   ]
  },
  {
   "cell_type": "markdown",
   "id": "0225f6ab",
   "metadata": {},
   "source": [
    "The median supply value is 2376.0"
   ]
  },
  {
   "cell_type": "markdown",
   "id": "7c5bef40",
   "metadata": {},
   "source": [
    "###### Quartiles are part of a set of points called quantiles, which divide the observations in a dataset into equal groups. Quartiles are the three intervals you get when you split the dataset into four equal groups:\n",
    "\n",
    "- First quartile $(Q_1)$:Splits the lower 25% of the data from the higher 75%.\n",
    "\n",
    "- Second quartile $(Q_2)$:Splits the dataset in half, and is equal to the median.\n",
    "\n",
    "- Third quartile$(Q_3)$:Splits the higher 25% of the data from the lower 75%.\n",
    "\n"
   ]
  },
  {
   "cell_type": "code",
   "execution_count": 53,
   "id": "f9c738bd",
   "metadata": {},
   "outputs": [
    {
     "data": {
      "text/plain": [
       "3.0"
      ]
     },
     "execution_count": 53,
     "metadata": {},
     "output_type": "execute_result"
    }
   ],
   "source": [
    "Q1_production = df1.Value.quantile(0.25)\n",
    "Q1_production"
   ]
  },
  {
   "cell_type": "markdown",
   "id": "e4dacb92",
   "metadata": {},
   "source": [
    "The first quartile $(Q_1)$ of the production value is 3.0"
   ]
  },
  {
   "cell_type": "code",
   "execution_count": 54,
   "id": "8d555bf6",
   "metadata": {},
   "outputs": [
    {
     "data": {
      "text/plain": [
       "18.0"
      ]
     },
     "execution_count": 54,
     "metadata": {},
     "output_type": "execute_result"
    }
   ],
   "source": [
    "Q2_production = df1.Value.quantile(0.50)\n",
    "Q2_production"
   ]
  },
  {
   "cell_type": "markdown",
   "id": "51cfbf03",
   "metadata": {},
   "source": [
    "The second quartile $(Q_2)$ of the production value is 18.0"
   ]
  },
  {
   "cell_type": "code",
   "execution_count": 55,
   "id": "d48f998f",
   "metadata": {},
   "outputs": [
    {
     "data": {
      "text/plain": [
       "108.0"
      ]
     },
     "execution_count": 55,
     "metadata": {},
     "output_type": "execute_result"
    }
   ],
   "source": [
    "Q3_production = df1.Value.quantile(0.75)\n",
    "Q3_production"
   ]
  },
  {
   "cell_type": "markdown",
   "id": "a74fc928",
   "metadata": {},
   "source": [
    "The third quartile $(Q_3)$ of the production value is 108.0"
   ]
  },
  {
   "cell_type": "markdown",
   "id": "649132c4",
   "metadata": {},
   "source": [
    "The InterquartileRange (IQR) is calculated as\n",
    "\n",
    "$Q_3 - Q_1$\n",
    "\n"
   ]
  },
  {
   "cell_type": "code",
   "execution_count": 56,
   "id": "e5769312",
   "metadata": {},
   "outputs": [],
   "source": [
    "IQR_production = Q3_production - Q1_production"
   ]
  },
  {
   "cell_type": "code",
   "execution_count": 57,
   "id": "8490856d",
   "metadata": {},
   "outputs": [
    {
     "data": {
      "text/plain": [
       "105.0"
      ]
     },
     "execution_count": 57,
     "metadata": {},
     "output_type": "execute_result"
    }
   ],
   "source": [
    "IQR_production "
   ]
  },
  {
   "cell_type": "markdown",
   "id": "d957c9a8",
   "metadata": {},
   "source": [
    "The InterquartileRange (IQR) of the production value is 105.0"
   ]
  },
  {
   "cell_type": "code",
   "execution_count": 58,
   "id": "2e28f585",
   "metadata": {},
   "outputs": [
    {
     "data": {
      "text/plain": [
       "2174.0"
      ]
     },
     "execution_count": 58,
     "metadata": {},
     "output_type": "execute_result"
    }
   ],
   "source": [
    "Q1_supply = df2.Value.quantile(0.25)\n",
    "Q1_supply"
   ]
  },
  {
   "cell_type": "markdown",
   "id": "4b2d2122",
   "metadata": {},
   "source": [
    "The first quartile $(Q_1)$ of the supply value is 2174.0"
   ]
  },
  {
   "cell_type": "code",
   "execution_count": 59,
   "id": "fdf7b47e",
   "metadata": {},
   "outputs": [
    {
     "data": {
      "text/plain": [
       "2376.0"
      ]
     },
     "execution_count": 59,
     "metadata": {},
     "output_type": "execute_result"
    }
   ],
   "source": [
    "Q2_supply = df2.Value.quantile(0.50)\n",
    "Q2_supply"
   ]
  },
  {
   "cell_type": "markdown",
   "id": "502f83f6",
   "metadata": {},
   "source": [
    "The second quartile $(Q_2)$ of the supply value is 2376.0"
   ]
  },
  {
   "cell_type": "code",
   "execution_count": 60,
   "id": "3ad6246a",
   "metadata": {},
   "outputs": [
    {
     "data": {
      "text/plain": [
       "2681.75"
      ]
     },
     "execution_count": 60,
     "metadata": {},
     "output_type": "execute_result"
    }
   ],
   "source": [
    "Q3_supply = df2.Value.quantile(0.75)\n",
    "Q3_supply"
   ]
  },
  {
   "cell_type": "markdown",
   "id": "1a56338e",
   "metadata": {},
   "source": [
    "The third quartile $(Q_3)$ of the production value is 2681.75 "
   ]
  },
  {
   "cell_type": "code",
   "execution_count": 61,
   "id": "8d50ca7c",
   "metadata": {},
   "outputs": [],
   "source": [
    "IQR_supply = Q3_supply - Q1_supply"
   ]
  },
  {
   "cell_type": "code",
   "execution_count": 62,
   "id": "38878465",
   "metadata": {},
   "outputs": [
    {
     "data": {
      "text/plain": [
       "507.75"
      ]
     },
     "execution_count": 62,
     "metadata": {},
     "output_type": "execute_result"
    }
   ],
   "source": [
    "IQR_supply"
   ]
  },
  {
   "cell_type": "markdown",
   "id": "af8f1c89",
   "metadata": {},
   "source": [
    "The InterquartileRange (IQR) of the supply value is 507.75"
   ]
  },
  {
   "cell_type": "markdown",
   "id": "9d654c0d",
   "metadata": {},
   "source": [
    "The InterquartileRange (IQR) is calculated as\n",
    "\n",
    "$Q_3 - Q_1$\n",
    "\n",
    "This tells us about the dispersion of the dataset, and helps us to find outliers.\n",
    "\n",
    "Any value that falls below the lower fence or above the upper fence is considered an outlier.\n",
    "\n",
    "\n",
    "$Lower fence = Q_1 - 1.5(IQR)$\n",
    "\n",
    "$Upper fence = Q_3 + 1.5(IQR)$\n",
    "\n"
   ]
  },
  {
   "cell_type": "code",
   "execution_count": 63,
   "id": "4c4327e1",
   "metadata": {},
   "outputs": [],
   "source": [
    "# Creating a fuction that produces outliers ranges\n",
    "def outlier(x):\n",
    "    \n",
    "    Q1 = x.quantile(0.25)\n",
    "    Q3 = x.quantile(0.75)\n",
    "\n",
    "    IQR_num = Q3 - Q1\n",
    "    IQR_mult_num = IQR_num*1.5\n",
    "\n",
    "    lower_num = Q1 - IQR_mult_num\n",
    "    upper_num = Q3 + IQR_mult_num\n",
    "    return lower_num, upper_num"
   ]
  },
  {
   "cell_type": "code",
   "execution_count": 64,
   "id": "b4e07b8a",
   "metadata": {},
   "outputs": [
    {
     "data": {
      "text/plain": [
       "(-154.5, 265.5)"
      ]
     },
     "execution_count": 64,
     "metadata": {},
     "output_type": "execute_result"
    }
   ],
   "source": [
    "outlier(df1.Value)"
   ]
  },
  {
   "cell_type": "code",
   "execution_count": 65,
   "id": "b28ad1f1",
   "metadata": {},
   "outputs": [
    {
     "data": {
      "text/plain": [
       "(1412.375, 3443.375)"
      ]
     },
     "execution_count": 65,
     "metadata": {},
     "output_type": "execute_result"
    }
   ],
   "source": [
    "outlier(df2.Value)"
   ]
  },
  {
   "cell_type": "code",
   "execution_count": 66,
   "id": "c2225895",
   "metadata": {},
   "outputs": [
    {
     "data": {
      "image/png": "[encoded data removed]",
      "text/plain": [
       "<Figure size 432x288 with 1 Axes>"
      ]
     },
     "metadata": {
      "needs_background": "light"
     },
     "output_type": "display_data"
    }
   ],
   "source": [
    "sns.boxplot(x = 'Year', y = 'Value', data = df2 ,color=color)\n",
    "plt.ylabel('kcal per capita per day')\n",
    "plt.title('Food Consumption in 45 African Countries between 2004 and 2013')\n",
    "plt.xticks(rotation = 90);"
   ]
  },
  {
   "cell_type": "markdown",
   "id": "a2b91e93",
   "metadata": {},
   "source": [
    "A boxplot of the food supply data from the previous subsection, for each year.\n",
    "\n",
    "For each year, the upper and lower fences show the range of values, the black lines show the median value. Outlier values are indicated by the black points."
   ]
  },
  {
   "cell_type": "code",
   "execution_count": 67,
   "id": "c21c529b",
   "metadata": {},
   "outputs": [
    {
     "data": {
      "text/plain": [
       "(1412.375, 3443.375)"
      ]
     },
     "execution_count": 67,
     "metadata": {},
     "output_type": "execute_result"
    }
   ],
   "source": [
    "outlier(df2.Value)"
   ]
  },
  {
   "cell_type": "markdown",
   "id": "6c8776b4",
   "metadata": {},
   "source": [
    "From this code any value that falls below 1412.375(the lower fence) or above 3443.375(the upper fence) is considered an outlier."
   ]
  },
  {
   "cell_type": "code",
   "execution_count": 68,
   "id": "c4c59110",
   "metadata": {},
   "outputs": [
    {
     "data": {
      "text/html": [
       "<div>\n",
       "<style scoped>\n",
       "    .dataframe tbody tr th:only-of-type {\n",
       "        vertical-align: middle;\n",
       "    }\n",
       "\n",
       "    .dataframe tbody tr th {\n",
       "        vertical-align: top;\n",
       "    }\n",
       "\n",
       "    .dataframe thead th {\n",
       "        text-align: right;\n",
       "    }\n",
       "</style>\n",
       "<table border=\"1\" class=\"dataframe\">\n",
       "  <thead>\n",
       "    <tr style=\"text-align: right;\">\n",
       "      <th></th>\n",
       "      <th>Country</th>\n",
       "      <th>Year</th>\n",
       "      <th>Value</th>\n",
       "    </tr>\n",
       "  </thead>\n",
       "  <tbody>\n",
       "  </tbody>\n",
       "</table>\n",
       "</div>"
      ],
      "text/plain": [
       "Empty DataFrame\n",
       "Columns: [Country, Year, Value]\n",
       "Index: []"
      ]
     },
     "execution_count": 68,
     "metadata": {},
     "output_type": "execute_result"
    }
   ],
   "source": [
    "df2.query('Value < 1412.375')"
   ]
  },
  {
   "cell_type": "code",
   "execution_count": 69,
   "id": "2a0dfe8b",
   "metadata": {
    "scrolled": true
   },
   "outputs": [
    {
     "data": {
      "text/html": [
       "<div>\n",
       "<style scoped>\n",
       "    .dataframe tbody tr th:only-of-type {\n",
       "        vertical-align: middle;\n",
       "    }\n",
       "\n",
       "    .dataframe tbody tr th {\n",
       "        vertical-align: top;\n",
       "    }\n",
       "\n",
       "    .dataframe thead th {\n",
       "        text-align: right;\n",
       "    }\n",
       "</style>\n",
       "<table border=\"1\" class=\"dataframe\">\n",
       "  <thead>\n",
       "    <tr style=\"text-align: right;\">\n",
       "      <th></th>\n",
       "      <th>Country</th>\n",
       "      <th>Year</th>\n",
       "      <th>Value</th>\n",
       "    </tr>\n",
       "  </thead>\n",
       "  <tbody>\n",
       "    <tr>\n",
       "      <th>123</th>\n",
       "      <td>Egypt</td>\n",
       "      <td>2007-01-01</td>\n",
       "      <td>3445</td>\n",
       "    </tr>\n",
       "    <tr>\n",
       "      <th>124</th>\n",
       "      <td>Egypt</td>\n",
       "      <td>2008-01-01</td>\n",
       "      <td>3490</td>\n",
       "    </tr>\n",
       "    <tr>\n",
       "      <th>126</th>\n",
       "      <td>Egypt</td>\n",
       "      <td>2010-01-01</td>\n",
       "      <td>3507</td>\n",
       "    </tr>\n",
       "    <tr>\n",
       "      <th>127</th>\n",
       "      <td>Egypt</td>\n",
       "      <td>2011-01-01</td>\n",
       "      <td>3549</td>\n",
       "    </tr>\n",
       "    <tr>\n",
       "      <th>128</th>\n",
       "      <td>Egypt</td>\n",
       "      <td>2012-01-01</td>\n",
       "      <td>3561</td>\n",
       "    </tr>\n",
       "    <tr>\n",
       "      <th>129</th>\n",
       "      <td>Egypt</td>\n",
       "      <td>2013-01-01</td>\n",
       "      <td>3522</td>\n",
       "    </tr>\n",
       "  </tbody>\n",
       "</table>\n",
       "</div>"
      ],
      "text/plain": [
       "    Country       Year  Value\n",
       "123   Egypt 2007-01-01   3445\n",
       "124   Egypt 2008-01-01   3490\n",
       "126   Egypt 2010-01-01   3507\n",
       "127   Egypt 2011-01-01   3549\n",
       "128   Egypt 2012-01-01   3561\n",
       "129   Egypt 2013-01-01   3522"
      ]
     },
     "execution_count": 69,
     "metadata": {},
     "output_type": "execute_result"
    }
   ],
   "source": [
    "df2.query('Value > 3443.375')"
   ]
  },
  {
   "cell_type": "markdown",
   "id": "96f35a14",
   "metadata": {},
   "source": [
    "Here we can see that various years had an outlier.\n",
    "From the boxplot above, there was one outlier in 2012 and we are going to analyse the data to find out more."
   ]
  },
  {
   "cell_type": "code",
   "execution_count": 70,
   "id": "b48769e7",
   "metadata": {},
   "outputs": [
    {
     "data": {
      "text/plain": [
       "Country                  Egypt\n",
       "Year       2012-01-01 00:00:00\n",
       "Value                     3561\n",
       "Name: 128, dtype: object"
      ]
     },
     "execution_count": 70,
     "metadata": {},
     "output_type": "execute_result"
    }
   ],
   "source": [
    "df2.iloc[128]"
   ]
  },
  {
   "cell_type": "markdown",
   "id": "49b2069d",
   "metadata": {},
   "source": [
    "### Scatter plot showing the outlier."
   ]
  },
  {
   "cell_type": "code",
   "execution_count": 71,
   "id": "f042a61e",
   "metadata": {},
   "outputs": [
    {
     "data": {
      "text/html": [
       "<div>\n",
       "<style scoped>\n",
       "    .dataframe tbody tr th:only-of-type {\n",
       "        vertical-align: middle;\n",
       "    }\n",
       "\n",
       "    .dataframe tbody tr th {\n",
       "        vertical-align: top;\n",
       "    }\n",
       "\n",
       "    .dataframe thead th {\n",
       "        text-align: right;\n",
       "    }\n",
       "</style>\n",
       "<table border=\"1\" class=\"dataframe\">\n",
       "  <thead>\n",
       "    <tr style=\"text-align: right;\">\n",
       "      <th></th>\n",
       "      <th>Country</th>\n",
       "      <th>Year</th>\n",
       "      <th>Value</th>\n",
       "    </tr>\n",
       "  </thead>\n",
       "  <tbody>\n",
       "    <tr>\n",
       "      <th>8</th>\n",
       "      <td>Algeria</td>\n",
       "      <td>2012-01-01</td>\n",
       "      <td>3272</td>\n",
       "    </tr>\n",
       "    <tr>\n",
       "      <th>18</th>\n",
       "      <td>Angola</td>\n",
       "      <td>2012-01-01</td>\n",
       "      <td>2384</td>\n",
       "    </tr>\n",
       "    <tr>\n",
       "      <th>28</th>\n",
       "      <td>Benin</td>\n",
       "      <td>2012-01-01</td>\n",
       "      <td>2610</td>\n",
       "    </tr>\n",
       "    <tr>\n",
       "      <th>38</th>\n",
       "      <td>Botswana</td>\n",
       "      <td>2012-01-01</td>\n",
       "      <td>2342</td>\n",
       "    </tr>\n",
       "    <tr>\n",
       "      <th>48</th>\n",
       "      <td>Burkina Faso</td>\n",
       "      <td>2012-01-01</td>\n",
       "      <td>2707</td>\n",
       "    </tr>\n",
       "    <tr>\n",
       "      <th>58</th>\n",
       "      <td>Cabo Verde</td>\n",
       "      <td>2012-01-01</td>\n",
       "      <td>2590</td>\n",
       "    </tr>\n",
       "    <tr>\n",
       "      <th>68</th>\n",
       "      <td>Cameroon</td>\n",
       "      <td>2012-01-01</td>\n",
       "      <td>2622</td>\n",
       "    </tr>\n",
       "    <tr>\n",
       "      <th>78</th>\n",
       "      <td>Central African Republic</td>\n",
       "      <td>2012-01-01</td>\n",
       "      <td>2116</td>\n",
       "    </tr>\n",
       "    <tr>\n",
       "      <th>88</th>\n",
       "      <td>Chad</td>\n",
       "      <td>2012-01-01</td>\n",
       "      <td>2124</td>\n",
       "    </tr>\n",
       "    <tr>\n",
       "      <th>98</th>\n",
       "      <td>Congo</td>\n",
       "      <td>2012-01-01</td>\n",
       "      <td>2158</td>\n",
       "    </tr>\n",
       "    <tr>\n",
       "      <th>108</th>\n",
       "      <td>Cote d'Ivoire</td>\n",
       "      <td>2012-01-01</td>\n",
       "      <td>2780</td>\n",
       "    </tr>\n",
       "    <tr>\n",
       "      <th>118</th>\n",
       "      <td>Djibouti</td>\n",
       "      <td>2012-01-01</td>\n",
       "      <td>2545</td>\n",
       "    </tr>\n",
       "    <tr>\n",
       "      <th>128</th>\n",
       "      <td>Egypt</td>\n",
       "      <td>2012-01-01</td>\n",
       "      <td>3561</td>\n",
       "    </tr>\n",
       "    <tr>\n",
       "      <th>138</th>\n",
       "      <td>Ethiopia</td>\n",
       "      <td>2012-01-01</td>\n",
       "      <td>2124</td>\n",
       "    </tr>\n",
       "    <tr>\n",
       "      <th>148</th>\n",
       "      <td>Gabon</td>\n",
       "      <td>2012-01-01</td>\n",
       "      <td>2795</td>\n",
       "    </tr>\n",
       "    <tr>\n",
       "      <th>158</th>\n",
       "      <td>Gambia</td>\n",
       "      <td>2012-01-01</td>\n",
       "      <td>2652</td>\n",
       "    </tr>\n",
       "    <tr>\n",
       "      <th>168</th>\n",
       "      <td>Ghana</td>\n",
       "      <td>2012-01-01</td>\n",
       "      <td>3043</td>\n",
       "    </tr>\n",
       "    <tr>\n",
       "      <th>178</th>\n",
       "      <td>Guinea</td>\n",
       "      <td>2012-01-01</td>\n",
       "      <td>2561</td>\n",
       "    </tr>\n",
       "    <tr>\n",
       "      <th>188</th>\n",
       "      <td>Guinea-Bissau</td>\n",
       "      <td>2012-01-01</td>\n",
       "      <td>2331</td>\n",
       "    </tr>\n",
       "    <tr>\n",
       "      <th>198</th>\n",
       "      <td>Kenya</td>\n",
       "      <td>2012-01-01</td>\n",
       "      <td>2192</td>\n",
       "    </tr>\n",
       "    <tr>\n",
       "      <th>208</th>\n",
       "      <td>Lesotho</td>\n",
       "      <td>2012-01-01</td>\n",
       "      <td>2547</td>\n",
       "    </tr>\n",
       "    <tr>\n",
       "      <th>218</th>\n",
       "      <td>Liberia</td>\n",
       "      <td>2012-01-01</td>\n",
       "      <td>2200</td>\n",
       "    </tr>\n",
       "    <tr>\n",
       "      <th>228</th>\n",
       "      <td>Madagascar</td>\n",
       "      <td>2012-01-01</td>\n",
       "      <td>2058</td>\n",
       "    </tr>\n",
       "    <tr>\n",
       "      <th>238</th>\n",
       "      <td>Malawi</td>\n",
       "      <td>2012-01-01</td>\n",
       "      <td>2333</td>\n",
       "    </tr>\n",
       "    <tr>\n",
       "      <th>248</th>\n",
       "      <td>Mali</td>\n",
       "      <td>2012-01-01</td>\n",
       "      <td>2860</td>\n",
       "    </tr>\n",
       "    <tr>\n",
       "      <th>258</th>\n",
       "      <td>Mauritania</td>\n",
       "      <td>2012-01-01</td>\n",
       "      <td>2873</td>\n",
       "    </tr>\n",
       "    <tr>\n",
       "      <th>268</th>\n",
       "      <td>Mauritius</td>\n",
       "      <td>2012-01-01</td>\n",
       "      <td>3014</td>\n",
       "    </tr>\n",
       "    <tr>\n",
       "      <th>278</th>\n",
       "      <td>Morocco</td>\n",
       "      <td>2012-01-01</td>\n",
       "      <td>3366</td>\n",
       "    </tr>\n",
       "    <tr>\n",
       "      <th>288</th>\n",
       "      <td>Mozambique</td>\n",
       "      <td>2012-01-01</td>\n",
       "      <td>2298</td>\n",
       "    </tr>\n",
       "    <tr>\n",
       "      <th>298</th>\n",
       "      <td>Namibia</td>\n",
       "      <td>2012-01-01</td>\n",
       "      <td>2145</td>\n",
       "    </tr>\n",
       "    <tr>\n",
       "      <th>308</th>\n",
       "      <td>Niger</td>\n",
       "      <td>2012-01-01</td>\n",
       "      <td>2567</td>\n",
       "    </tr>\n",
       "    <tr>\n",
       "      <th>318</th>\n",
       "      <td>Nigeria</td>\n",
       "      <td>2012-01-01</td>\n",
       "      <td>2665</td>\n",
       "    </tr>\n",
       "    <tr>\n",
       "      <th>328</th>\n",
       "      <td>Rwanda</td>\n",
       "      <td>2012-01-01</td>\n",
       "      <td>2270</td>\n",
       "    </tr>\n",
       "    <tr>\n",
       "      <th>338</th>\n",
       "      <td>Sao Tome and Principe</td>\n",
       "      <td>2012-01-01</td>\n",
       "      <td>2338</td>\n",
       "    </tr>\n",
       "    <tr>\n",
       "      <th>348</th>\n",
       "      <td>Senegal</td>\n",
       "      <td>2012-01-01</td>\n",
       "      <td>2443</td>\n",
       "    </tr>\n",
       "    <tr>\n",
       "      <th>358</th>\n",
       "      <td>Sierra Leone</td>\n",
       "      <td>2012-01-01</td>\n",
       "      <td>2374</td>\n",
       "    </tr>\n",
       "    <tr>\n",
       "      <th>368</th>\n",
       "      <td>South Africa</td>\n",
       "      <td>2012-01-01</td>\n",
       "      <td>3014</td>\n",
       "    </tr>\n",
       "    <tr>\n",
       "      <th>370</th>\n",
       "      <td>Sudan</td>\n",
       "      <td>2012-01-01</td>\n",
       "      <td>2301</td>\n",
       "    </tr>\n",
       "    <tr>\n",
       "      <th>388</th>\n",
       "      <td>Swaziland</td>\n",
       "      <td>2012-01-01</td>\n",
       "      <td>2293</td>\n",
       "    </tr>\n",
       "    <tr>\n",
       "      <th>398</th>\n",
       "      <td>Togo</td>\n",
       "      <td>2012-01-01</td>\n",
       "      <td>2414</td>\n",
       "    </tr>\n",
       "    <tr>\n",
       "      <th>408</th>\n",
       "      <td>Tunisia</td>\n",
       "      <td>2012-01-01</td>\n",
       "      <td>3390</td>\n",
       "    </tr>\n",
       "    <tr>\n",
       "      <th>418</th>\n",
       "      <td>Uganda</td>\n",
       "      <td>2012-01-01</td>\n",
       "      <td>2160</td>\n",
       "    </tr>\n",
       "    <tr>\n",
       "      <th>428</th>\n",
       "      <td>United Republic of Tanzania</td>\n",
       "      <td>2012-01-01</td>\n",
       "      <td>2192</td>\n",
       "    </tr>\n",
       "    <tr>\n",
       "      <th>438</th>\n",
       "      <td>Zambia</td>\n",
       "      <td>2012-01-01</td>\n",
       "      <td>1923</td>\n",
       "    </tr>\n",
       "    <tr>\n",
       "      <th>448</th>\n",
       "      <td>Zimbabwe</td>\n",
       "      <td>2012-01-01</td>\n",
       "      <td>2197</td>\n",
       "    </tr>\n",
       "  </tbody>\n",
       "</table>\n",
       "</div>"
      ],
      "text/plain": [
       "                         Country       Year  Value\n",
       "8                        Algeria 2012-01-01   3272\n",
       "18                        Angola 2012-01-01   2384\n",
       "28                         Benin 2012-01-01   2610\n",
       "38                      Botswana 2012-01-01   2342\n",
       "48                  Burkina Faso 2012-01-01   2707\n",
       "58                    Cabo Verde 2012-01-01   2590\n",
       "68                      Cameroon 2012-01-01   2622\n",
       "78      Central African Republic 2012-01-01   2116\n",
       "88                          Chad 2012-01-01   2124\n",
       "98                         Congo 2012-01-01   2158\n",
       "108                Cote d'Ivoire 2012-01-01   2780\n",
       "118                     Djibouti 2012-01-01   2545\n",
       "128                        Egypt 2012-01-01   3561\n",
       "138                     Ethiopia 2012-01-01   2124\n",
       "148                        Gabon 2012-01-01   2795\n",
       "158                       Gambia 2012-01-01   2652\n",
       "168                        Ghana 2012-01-01   3043\n",
       "178                       Guinea 2012-01-01   2561\n",
       "188                Guinea-Bissau 2012-01-01   2331\n",
       "198                        Kenya 2012-01-01   2192\n",
       "208                      Lesotho 2012-01-01   2547\n",
       "218                      Liberia 2012-01-01   2200\n",
       "228                   Madagascar 2012-01-01   2058\n",
       "238                       Malawi 2012-01-01   2333\n",
       "248                         Mali 2012-01-01   2860\n",
       "258                   Mauritania 2012-01-01   2873\n",
       "268                    Mauritius 2012-01-01   3014\n",
       "278                      Morocco 2012-01-01   3366\n",
       "288                   Mozambique 2012-01-01   2298\n",
       "298                      Namibia 2012-01-01   2145\n",
       "308                        Niger 2012-01-01   2567\n",
       "318                      Nigeria 2012-01-01   2665\n",
       "328                       Rwanda 2012-01-01   2270\n",
       "338        Sao Tome and Principe 2012-01-01   2338\n",
       "348                      Senegal 2012-01-01   2443\n",
       "358                 Sierra Leone 2012-01-01   2374\n",
       "368                 South Africa 2012-01-01   3014\n",
       "370                        Sudan 2012-01-01   2301\n",
       "388                    Swaziland 2012-01-01   2293\n",
       "398                         Togo 2012-01-01   2414\n",
       "408                      Tunisia 2012-01-01   3390\n",
       "418                       Uganda 2012-01-01   2160\n",
       "428  United Republic of Tanzania 2012-01-01   2192\n",
       "438                       Zambia 2012-01-01   1923\n",
       "448                     Zimbabwe 2012-01-01   2197"
      ]
     },
     "execution_count": 71,
     "metadata": {},
     "output_type": "execute_result"
    }
   ],
   "source": [
    "df_2012 = df2.query('Year == 2012')\n",
    "df_2012"
   ]
  },
  {
   "cell_type": "code",
   "execution_count": 72,
   "id": "a1565780",
   "metadata": {
    "scrolled": true
   },
   "outputs": [
    {
     "data": {
      "image/png": "[encoded data removed]",
      "text/plain": [
       "<Figure size 1080x360 with 1 Axes>"
      ]
     },
     "metadata": {
      "needs_background": "light"
     },
     "output_type": "display_data"
    }
   ],
   "source": [
    "outlier = df_2012[df_2012.Value.gt(3443.375)]\n",
    "ax = df_2012.plot(kind='scatter', x='Country',y='Value', marker='o', figsize=(15, 5), zorder=0)\n",
    "outlier.plot(kind='scatter',x='Country',y='Value',color='red',ax=ax, s=30, label='outliers')\n",
    "plt.ylabel('kcal per capita per day')\n",
    "plt.title('Food Consumption in 45 African Countries between 2004 and 2013')\n",
    "plt.xticks(rotation=90)\n",
    "plt.show()"
   ]
  },
  {
   "cell_type": "markdown",
   "id": "081d0b0c",
   "metadata": {},
   "source": [
    "The scatterplot above attempts to show outliers. The outlier is indicated with the red point and tells us that in 2012 Egypt had slightly higher consumption value than other countries."
   ]
  },
  {
   "cell_type": "markdown",
   "id": "aac23746",
   "metadata": {},
   "source": [
    "#### A comparison between average food consumption and production for each year."
   ]
  },
  {
   "cell_type": "code",
   "execution_count": 73,
   "id": "3badbab8",
   "metadata": {},
   "outputs": [
    {
     "data": {
      "text/html": [
       "<div>\n",
       "<style scoped>\n",
       "    .dataframe tbody tr th:only-of-type {\n",
       "        vertical-align: middle;\n",
       "    }\n",
       "\n",
       "    .dataframe tbody tr th {\n",
       "        vertical-align: top;\n",
       "    }\n",
       "\n",
       "    .dataframe thead th {\n",
       "        text-align: right;\n",
       "    }\n",
       "</style>\n",
       "<table border=\"1\" class=\"dataframe\">\n",
       "  <thead>\n",
       "    <tr style=\"text-align: right;\">\n",
       "      <th></th>\n",
       "      <th></th>\n",
       "      <th>Value</th>\n",
       "    </tr>\n",
       "    <tr>\n",
       "      <th>Country</th>\n",
       "      <th>Year</th>\n",
       "      <th></th>\n",
       "    </tr>\n",
       "  </thead>\n",
       "  <tbody>\n",
       "    <tr>\n",
       "      <th rowspan=\"5\" valign=\"top\">Algeria</th>\n",
       "      <th>2004-01-01</th>\n",
       "      <td>15536</td>\n",
       "    </tr>\n",
       "    <tr>\n",
       "      <th>2005-01-01</th>\n",
       "      <td>15667</td>\n",
       "    </tr>\n",
       "    <tr>\n",
       "      <th>2006-01-01</th>\n",
       "      <td>16417</td>\n",
       "    </tr>\n",
       "    <tr>\n",
       "      <th>2007-01-01</th>\n",
       "      <td>14763</td>\n",
       "    </tr>\n",
       "    <tr>\n",
       "      <th>2008-01-01</th>\n",
       "      <td>13841</td>\n",
       "    </tr>\n",
       "    <tr>\n",
       "      <th>...</th>\n",
       "      <th>...</th>\n",
       "      <td>...</td>\n",
       "    </tr>\n",
       "    <tr>\n",
       "      <th rowspan=\"5\" valign=\"top\">Zimbabwe</th>\n",
       "      <th>2009-01-01</th>\n",
       "      <td>5754</td>\n",
       "    </tr>\n",
       "    <tr>\n",
       "      <th>2010-01-01</th>\n",
       "      <td>6777</td>\n",
       "    </tr>\n",
       "    <tr>\n",
       "      <th>2011-01-01</th>\n",
       "      <td>7551</td>\n",
       "    </tr>\n",
       "    <tr>\n",
       "      <th>2012-01-01</th>\n",
       "      <td>8173</td>\n",
       "    </tr>\n",
       "    <tr>\n",
       "      <th>2013-01-01</th>\n",
       "      <td>7914</td>\n",
       "    </tr>\n",
       "  </tbody>\n",
       "</table>\n",
       "<p>450 rows × 1 columns</p>\n",
       "</div>"
      ],
      "text/plain": [
       "                     Value\n",
       "Country  Year             \n",
       "Algeria  2004-01-01  15536\n",
       "         2005-01-01  15667\n",
       "         2006-01-01  16417\n",
       "         2007-01-01  14763\n",
       "         2008-01-01  13841\n",
       "...                    ...\n",
       "Zimbabwe 2009-01-01   5754\n",
       "         2010-01-01   6777\n",
       "         2011-01-01   7551\n",
       "         2012-01-01   8173\n",
       "         2013-01-01   7914\n",
       "\n",
       "[450 rows x 1 columns]"
      ]
     },
     "execution_count": 73,
     "metadata": {},
     "output_type": "execute_result"
    }
   ],
   "source": [
    "avg_food_production_each_year = df1.groupby(['Country','Year']).sum()\n",
    "avg_food_production_each_year"
   ]
  },
  {
   "cell_type": "code",
   "execution_count": 74,
   "id": "065ce2e7",
   "metadata": {
    "scrolled": false
   },
   "outputs": [
    {
     "data": {
      "text/html": [
       "<div>\n",
       "<style scoped>\n",
       "    .dataframe tbody tr th:only-of-type {\n",
       "        vertical-align: middle;\n",
       "    }\n",
       "\n",
       "    .dataframe tbody tr th {\n",
       "        vertical-align: top;\n",
       "    }\n",
       "\n",
       "    .dataframe thead th {\n",
       "        text-align: right;\n",
       "    }\n",
       "</style>\n",
       "<table border=\"1\" class=\"dataframe\">\n",
       "  <thead>\n",
       "    <tr style=\"text-align: right;\">\n",
       "      <th></th>\n",
       "      <th></th>\n",
       "      <th>Value</th>\n",
       "    </tr>\n",
       "    <tr>\n",
       "      <th>Country</th>\n",
       "      <th>Year</th>\n",
       "      <th></th>\n",
       "    </tr>\n",
       "  </thead>\n",
       "  <tbody>\n",
       "    <tr>\n",
       "      <th rowspan=\"5\" valign=\"top\">Algeria</th>\n",
       "      <th>2004-01-01</th>\n",
       "      <td>2987.0</td>\n",
       "    </tr>\n",
       "    <tr>\n",
       "      <th>2005-01-01</th>\n",
       "      <td>2958.0</td>\n",
       "    </tr>\n",
       "    <tr>\n",
       "      <th>2006-01-01</th>\n",
       "      <td>3047.0</td>\n",
       "    </tr>\n",
       "    <tr>\n",
       "      <th>2007-01-01</th>\n",
       "      <td>3041.0</td>\n",
       "    </tr>\n",
       "    <tr>\n",
       "      <th>2008-01-01</th>\n",
       "      <td>3048.0</td>\n",
       "    </tr>\n",
       "    <tr>\n",
       "      <th>...</th>\n",
       "      <th>...</th>\n",
       "      <td>...</td>\n",
       "    </tr>\n",
       "    <tr>\n",
       "      <th rowspan=\"5\" valign=\"top\">Zimbabwe</th>\n",
       "      <th>2009-01-01</th>\n",
       "      <td>2147.0</td>\n",
       "    </tr>\n",
       "    <tr>\n",
       "      <th>2010-01-01</th>\n",
       "      <td>2168.0</td>\n",
       "    </tr>\n",
       "    <tr>\n",
       "      <th>2011-01-01</th>\n",
       "      <td>2200.0</td>\n",
       "    </tr>\n",
       "    <tr>\n",
       "      <th>2012-01-01</th>\n",
       "      <td>2197.0</td>\n",
       "    </tr>\n",
       "    <tr>\n",
       "      <th>2013-01-01</th>\n",
       "      <td>2110.0</td>\n",
       "    </tr>\n",
       "  </tbody>\n",
       "</table>\n",
       "<p>450 rows × 1 columns</p>\n",
       "</div>"
      ],
      "text/plain": [
       "                      Value\n",
       "Country  Year              \n",
       "Algeria  2004-01-01  2987.0\n",
       "         2005-01-01  2958.0\n",
       "         2006-01-01  3047.0\n",
       "         2007-01-01  3041.0\n",
       "         2008-01-01  3048.0\n",
       "...                     ...\n",
       "Zimbabwe 2009-01-01  2147.0\n",
       "         2010-01-01  2168.0\n",
       "         2011-01-01  2200.0\n",
       "         2012-01-01  2197.0\n",
       "         2013-01-01  2110.0\n",
       "\n",
       "[450 rows x 1 columns]"
      ]
     },
     "execution_count": 74,
     "metadata": {},
     "output_type": "execute_result"
    }
   ],
   "source": [
    "avg_food_consumption_each_year = df2.groupby(['Country','Year']).mean()\n",
    "avg_food_consumption_each_year"
   ]
  },
  {
   "cell_type": "code",
   "execution_count": 75,
   "id": "48c6e054",
   "metadata": {
    "scrolled": true
   },
   "outputs": [
    {
     "data": {
      "text/plain": [
       "327.7852012115967"
      ]
     },
     "execution_count": 75,
     "metadata": {},
     "output_type": "execute_result"
    }
   ],
   "source": [
    "df1_mean = df1.Value.mean()\n",
    "df1_mean"
   ]
  },
  {
   "cell_type": "code",
   "execution_count": 76,
   "id": "cd848861",
   "metadata": {},
   "outputs": [
    {
     "data": {
      "image/png": "[encoded data removed]",
      "text/plain": [
       "<Figure size 720x360 with 1 Axes>"
      ]
     },
     "metadata": {
      "needs_background": "light"
     },
     "output_type": "display_data"
    },
    {
     "data": {
      "image/png": "[encoded data removed]",
      "text/plain": [
       "<Figure size 432x288 with 1 Axes>"
      ]
     },
     "metadata": {
      "needs_background": "light"
     },
     "output_type": "display_data"
    }
   ],
   "source": [
    "df1.groupby(['Country']).mean().sort_values(by='Value', ascending = False).plot(kind='bar', figsize =(10,5))\n",
    "plt.ylabel('Value in kiloton(kt)')\n",
    "plt.title('Food Production in 45 African Countries between 2004 and 2013')\n",
    "df1.groupby(['Year']).mean().plot()\n",
    "plt.ylabel('Value in kiloton(kt)')\n",
    "plt.title('Food Production in 45 African Countries between 2004 and 2013')\n",
    "plt.show()"
   ]
  },
  {
   "cell_type": "code",
   "execution_count": 77,
   "id": "c8c9c363",
   "metadata": {},
   "outputs": [
    {
     "data": {
      "text/plain": [
       "Text(0.5, 1.0, 'Food Consumption in 45 African Countries between 2004 and 2013')"
      ]
     },
     "execution_count": 77,
     "metadata": {},
     "output_type": "execute_result"
    },
    {
     "data": {
      "image/png": "[encoded data removed]",
      "text/plain": [
       "<Figure size 720x360 with 1 Axes>"
      ]
     },
     "metadata": {
      "needs_background": "light"
     },
     "output_type": "display_data"
    },
    {
     "data": {
      "image/png": "[encoded data removed]",
      "text/plain": [
       "<Figure size 432x288 with 1 Axes>"
      ]
     },
     "metadata": {
      "needs_background": "light"
     },
     "output_type": "display_data"
    }
   ],
   "source": [
    "df2.groupby(['Country']).mean().sort_values(by='Value', ascending = False).plot(kind='bar', figsize =(10,5));\n",
    "plt.ylabel('kcal per capita per day')\n",
    "plt.title('Food Consumption in 45 African Countries between 2004 and 2013')\n",
    "df2.groupby(['Year']).mean().plot();\n",
    "plt.ylabel('kcal per capita per day')\n",
    "plt.title('Food Consumption in 45 African Countries between 2004 and 2013')"
   ]
  },
  {
   "cell_type": "markdown",
   "id": "d54a62d1",
   "metadata": {},
   "source": [
    "The visualizations above show the average food production and consumption in 45 African Countries side by side. It is seen that although Nigeria, Egypt, and South Africa are the top three food-producing countries in Africa, Egypt, Tunisia and Morocco had the highest food supply value in Africa.\n",
    "\n",
    "Food production value rose steadily from 2004 to 2006 where it fluctuated till 2009 and rose steadily till 2013. Meanwhile, Food consumption increased steadily."
   ]
  },
  {
   "cell_type": "markdown",
   "id": "ef163a8c",
   "metadata": {},
   "source": [
    "#### Use and Test of Hypothesis"
   ]
  },
  {
   "cell_type": "markdown",
   "id": "72af1140",
   "metadata": {},
   "source": [
    "Given historical figures,\"the average production of rice in Mozambique in 2020 will be 13kt\"\n",
    "\n",
    "\n",
    "$\\therefore H_0:\\mu = 13$\n",
    "\n",
    "$\\therefore H_1:\\mu \\neq13$"
   ]
  },
  {
   "cell_type": "code",
   "execution_count": 78,
   "id": "1aa7ae04",
   "metadata": {},
   "outputs": [
    {
     "data": {
      "text/html": [
       "<div>\n",
       "<style scoped>\n",
       "    .dataframe tbody tr th:only-of-type {\n",
       "        vertical-align: middle;\n",
       "    }\n",
       "\n",
       "    .dataframe tbody tr th {\n",
       "        vertical-align: top;\n",
       "    }\n",
       "\n",
       "    .dataframe thead th {\n",
       "        text-align: right;\n",
       "    }\n",
       "</style>\n",
       "<table border=\"1\" class=\"dataframe\">\n",
       "  <thead>\n",
       "    <tr style=\"text-align: right;\">\n",
       "      <th></th>\n",
       "      <th>Country</th>\n",
       "      <th>Item</th>\n",
       "      <th>Year</th>\n",
       "      <th>Value</th>\n",
       "    </tr>\n",
       "  </thead>\n",
       "  <tbody>\n",
       "    <tr>\n",
       "      <th>10</th>\n",
       "      <td>Algeria</td>\n",
       "      <td>Rice (Milled Equivalent)</td>\n",
       "      <td>2004-01-01</td>\n",
       "      <td>0</td>\n",
       "    </tr>\n",
       "    <tr>\n",
       "      <th>11</th>\n",
       "      <td>Algeria</td>\n",
       "      <td>Rice (Milled Equivalent)</td>\n",
       "      <td>2005-01-01</td>\n",
       "      <td>0</td>\n",
       "    </tr>\n",
       "    <tr>\n",
       "      <th>12</th>\n",
       "      <td>Algeria</td>\n",
       "      <td>Rice (Milled Equivalent)</td>\n",
       "      <td>2006-01-01</td>\n",
       "      <td>0</td>\n",
       "    </tr>\n",
       "    <tr>\n",
       "      <th>13</th>\n",
       "      <td>Algeria</td>\n",
       "      <td>Rice (Milled Equivalent)</td>\n",
       "      <td>2007-01-01</td>\n",
       "      <td>0</td>\n",
       "    </tr>\n",
       "    <tr>\n",
       "      <th>14</th>\n",
       "      <td>Algeria</td>\n",
       "      <td>Rice (Milled Equivalent)</td>\n",
       "      <td>2008-01-01</td>\n",
       "      <td>0</td>\n",
       "    </tr>\n",
       "    <tr>\n",
       "      <th>...</th>\n",
       "      <td>...</td>\n",
       "      <td>...</td>\n",
       "      <td>...</td>\n",
       "      <td>...</td>\n",
       "    </tr>\n",
       "    <tr>\n",
       "      <th>22485</th>\n",
       "      <td>Zimbabwe</td>\n",
       "      <td>Rice (Milled Equivalent)</td>\n",
       "      <td>2009-01-01</td>\n",
       "      <td>0</td>\n",
       "    </tr>\n",
       "    <tr>\n",
       "      <th>22486</th>\n",
       "      <td>Zimbabwe</td>\n",
       "      <td>Rice (Milled Equivalent)</td>\n",
       "      <td>2010-01-01</td>\n",
       "      <td>0</td>\n",
       "    </tr>\n",
       "    <tr>\n",
       "      <th>22487</th>\n",
       "      <td>Zimbabwe</td>\n",
       "      <td>Rice (Milled Equivalent)</td>\n",
       "      <td>2011-01-01</td>\n",
       "      <td>0</td>\n",
       "    </tr>\n",
       "    <tr>\n",
       "      <th>22488</th>\n",
       "      <td>Zimbabwe</td>\n",
       "      <td>Rice (Milled Equivalent)</td>\n",
       "      <td>2012-01-01</td>\n",
       "      <td>0</td>\n",
       "    </tr>\n",
       "    <tr>\n",
       "      <th>22489</th>\n",
       "      <td>Zimbabwe</td>\n",
       "      <td>Rice (Milled Equivalent)</td>\n",
       "      <td>2013-01-01</td>\n",
       "      <td>0</td>\n",
       "    </tr>\n",
       "  </tbody>\n",
       "</table>\n",
       "<p>380 rows × 4 columns</p>\n",
       "</div>"
      ],
      "text/plain": [
       "        Country                      Item       Year  Value\n",
       "10      Algeria  Rice (Milled Equivalent) 2004-01-01      0\n",
       "11      Algeria  Rice (Milled Equivalent) 2005-01-01      0\n",
       "12      Algeria  Rice (Milled Equivalent) 2006-01-01      0\n",
       "13      Algeria  Rice (Milled Equivalent) 2007-01-01      0\n",
       "14      Algeria  Rice (Milled Equivalent) 2008-01-01      0\n",
       "...         ...                       ...        ...    ...\n",
       "22485  Zimbabwe  Rice (Milled Equivalent) 2009-01-01      0\n",
       "22486  Zimbabwe  Rice (Milled Equivalent) 2010-01-01      0\n",
       "22487  Zimbabwe  Rice (Milled Equivalent) 2011-01-01      0\n",
       "22488  Zimbabwe  Rice (Milled Equivalent) 2012-01-01      0\n",
       "22489  Zimbabwe  Rice (Milled Equivalent) 2013-01-01      0\n",
       "\n",
       "[380 rows x 4 columns]"
      ]
     },
     "execution_count": 78,
     "metadata": {},
     "output_type": "execute_result"
    }
   ],
   "source": [
    " rice = df1.query('Item ==\"Rice (Milled Equivalent)\"')\n",
    "rice"
   ]
  },
  {
   "cell_type": "markdown",
   "id": "005cdf93",
   "metadata": {},
   "source": [
    "## Conclusions"
   ]
  },
  {
   "cell_type": "markdown",
   "id": "1abfca32",
   "metadata": {},
   "source": [
    "After analyzing the two datasets various insights were derived:\n",
    "\n",
    "1. 2013 had the highest food production value\n",
    "\n",
    "2. Nigeria, Egypt and South Africa were the top 3 food producing nations in Africa.\n",
    "\n",
    "3. It was also discovered that Milk(excluding butter), Vegetables, Mutton & Goat Meat, Bovine Meat, Offals(edible), Fats, Animals, Raw, and Fruits are the top produced foods in Africa with a count of 450 each.\n",
    "\n",
    "4. I discovered that the consumption value increased over time\n",
    "\n",
    "5. I discovered the top 3 food suppliers in Africa Interestingly, although Nigeria, Egypt, and South Africa were the top 3 food-producing countries between 2004 and 2013, the visualization shows us that Egypt, Morocco, and Tunisia had the highest food supply per capita.\n",
    "\n",
    "6. Comparing the average food production and consumption "
   ]
  }
 ],
 "metadata": {
  "kernelspec": {
   "display_name": "Python 3 (ipykernel)",
   "language": "python",
   "name": "python3"
  },
  "language_info": {
   "codemirror_mode": {
    "name": "ipython",
    "version": 3
   },
   "file_extension": ".py",
   "mimetype": "text/x-python",
   "name": "python",
   "nbconvert_exporter": "python",
   "pygments_lexer": "ipython3",
   "version": "3.9.7"
  }
 },
 "nbformat": 4,
 "nbformat_minor": 5
}
